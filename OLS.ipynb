{
 "cells": [
  {
   "cell_type": "code",
   "execution_count": 3,
   "id": "7b1f9116",
   "metadata": {},
   "outputs": [],
   "source": [
    "import pandas as pd\n",
    "import numpy as np\n",
    "import matplotlib.pyplot as plt\n",
    "import seaborn as sns\n",
    "from sklearn import linear_model\n",
    "from sklearn.model_selection import train_test_split\n",
    "from sklearn.metrics import mean_squared_error\n",
    "from datetime import datetime, timedelta\n",
    "from statsmodels.graphics.tsaplots import plot_acf, plot_pacf"
   ]
  },
  {
   "cell_type": "code",
   "execution_count": 2,
   "id": "4a72cda2",
   "metadata": {},
   "outputs": [
    {
     "data": {
      "text/html": [
       "<div>\n",
       "<style scoped>\n",
       "    .dataframe tbody tr th:only-of-type {\n",
       "        vertical-align: middle;\n",
       "    }\n",
       "\n",
       "    .dataframe tbody tr th {\n",
       "        vertical-align: top;\n",
       "    }\n",
       "\n",
       "    .dataframe thead th {\n",
       "        text-align: right;\n",
       "    }\n",
       "</style>\n",
       "<table border=\"1\" class=\"dataframe\">\n",
       "  <thead>\n",
       "    <tr style=\"text-align: right;\">\n",
       "      <th></th>\n",
       "      <th>I</th>\n",
       "      <th>ROOFTOP</th>\n",
       "      <th>ACTUAL</th>\n",
       "      <th>2</th>\n",
       "      <th>INTERVAL_DATETIME</th>\n",
       "      <th>REGIONID</th>\n",
       "      <th>POWER</th>\n",
       "      <th>QI</th>\n",
       "      <th>TYPE</th>\n",
       "      <th>LASTCHANGED</th>\n",
       "      <th>REGION</th>\n",
       "      <th>SETTLEMENTDATE</th>\n",
       "      <th>TOTALDEMAND</th>\n",
       "      <th>RRP</th>\n",
       "      <th>PERIODTYPE</th>\n",
       "    </tr>\n",
       "  </thead>\n",
       "  <tbody>\n",
       "    <tr>\n",
       "      <th>0</th>\n",
       "      <td>D</td>\n",
       "      <td>ROOFTOP</td>\n",
       "      <td>ACTUAL</td>\n",
       "      <td>2.0</td>\n",
       "      <td>2022-10-13 07:00:00</td>\n",
       "      <td>NSW1</td>\n",
       "      <td>588.646</td>\n",
       "      <td>1.0</td>\n",
       "      <td>MEASUREMENT</td>\n",
       "      <td>2022/10/13 07:19:45</td>\n",
       "      <td>NSW1</td>\n",
       "      <td>2022-10-13 07:00:00</td>\n",
       "      <td>8011.43</td>\n",
       "      <td>108.35</td>\n",
       "      <td>TRADE</td>\n",
       "    </tr>\n",
       "    <tr>\n",
       "      <th>1</th>\n",
       "      <td>D</td>\n",
       "      <td>ROOFTOP</td>\n",
       "      <td>ACTUAL</td>\n",
       "      <td>2.0</td>\n",
       "      <td>2022-10-13 07:30:00</td>\n",
       "      <td>NSW1</td>\n",
       "      <td>938.043</td>\n",
       "      <td>1.0</td>\n",
       "      <td>MEASUREMENT</td>\n",
       "      <td>2022/10/13 07:49:44</td>\n",
       "      <td>NSW1</td>\n",
       "      <td>2022-10-13 07:30:00</td>\n",
       "      <td>7605.55</td>\n",
       "      <td>119.79</td>\n",
       "      <td>TRADE</td>\n",
       "    </tr>\n",
       "    <tr>\n",
       "      <th>2</th>\n",
       "      <td>D</td>\n",
       "      <td>ROOFTOP</td>\n",
       "      <td>ACTUAL</td>\n",
       "      <td>2.0</td>\n",
       "      <td>2022-10-13 08:00:00</td>\n",
       "      <td>NSW1</td>\n",
       "      <td>1299.804</td>\n",
       "      <td>1.0</td>\n",
       "      <td>MEASUREMENT</td>\n",
       "      <td>2022/10/13 08:19:44</td>\n",
       "      <td>NSW1</td>\n",
       "      <td>2022-10-13 08:00:00</td>\n",
       "      <td>7215.51</td>\n",
       "      <td>-0.02</td>\n",
       "      <td>TRADE</td>\n",
       "    </tr>\n",
       "    <tr>\n",
       "      <th>3</th>\n",
       "      <td>D</td>\n",
       "      <td>ROOFTOP</td>\n",
       "      <td>ACTUAL</td>\n",
       "      <td>2.0</td>\n",
       "      <td>2022-10-13 08:30:00</td>\n",
       "      <td>NSW1</td>\n",
       "      <td>1622.183</td>\n",
       "      <td>1.0</td>\n",
       "      <td>MEASUREMENT</td>\n",
       "      <td>2022/10/13 08:49:50</td>\n",
       "      <td>NSW1</td>\n",
       "      <td>2022-10-13 08:30:00</td>\n",
       "      <td>7169.87</td>\n",
       "      <td>128.25</td>\n",
       "      <td>TRADE</td>\n",
       "    </tr>\n",
       "    <tr>\n",
       "      <th>4</th>\n",
       "      <td>D</td>\n",
       "      <td>ROOFTOP</td>\n",
       "      <td>ACTUAL</td>\n",
       "      <td>2.0</td>\n",
       "      <td>2022-10-13 09:00:00</td>\n",
       "      <td>NSW1</td>\n",
       "      <td>1781.731</td>\n",
       "      <td>1.0</td>\n",
       "      <td>MEASUREMENT</td>\n",
       "      <td>2022/10/13 09:19:48</td>\n",
       "      <td>NSW1</td>\n",
       "      <td>2022-10-13 09:00:00</td>\n",
       "      <td>7110.10</td>\n",
       "      <td>150.75</td>\n",
       "      <td>TRADE</td>\n",
       "    </tr>\n",
       "  </tbody>\n",
       "</table>\n",
       "</div>"
      ],
      "text/plain": [
       "   I  ROOFTOP  ACTUAL    2    INTERVAL_DATETIME REGIONID     POWER   QI  \\\n",
       "0  D  ROOFTOP  ACTUAL  2.0  2022-10-13 07:00:00     NSW1   588.646  1.0   \n",
       "1  D  ROOFTOP  ACTUAL  2.0  2022-10-13 07:30:00     NSW1   938.043  1.0   \n",
       "2  D  ROOFTOP  ACTUAL  2.0  2022-10-13 08:00:00     NSW1  1299.804  1.0   \n",
       "3  D  ROOFTOP  ACTUAL  2.0  2022-10-13 08:30:00     NSW1  1622.183  1.0   \n",
       "4  D  ROOFTOP  ACTUAL  2.0  2022-10-13 09:00:00     NSW1  1781.731  1.0   \n",
       "\n",
       "          TYPE          LASTCHANGED REGION       SETTLEMENTDATE  TOTALDEMAND  \\\n",
       "0  MEASUREMENT  2022/10/13 07:19:45   NSW1  2022-10-13 07:00:00      8011.43   \n",
       "1  MEASUREMENT  2022/10/13 07:49:44   NSW1  2022-10-13 07:30:00      7605.55   \n",
       "2  MEASUREMENT  2022/10/13 08:19:44   NSW1  2022-10-13 08:00:00      7215.51   \n",
       "3  MEASUREMENT  2022/10/13 08:49:50   NSW1  2022-10-13 08:30:00      7169.87   \n",
       "4  MEASUREMENT  2022/10/13 09:19:48   NSW1  2022-10-13 09:00:00      7110.10   \n",
       "\n",
       "      RRP PERIODTYPE  \n",
       "0  108.35      TRADE  \n",
       "1  119.79      TRADE  \n",
       "2   -0.02      TRADE  \n",
       "3  128.25      TRADE  \n",
       "4  150.75      TRADE  "
      ]
     },
     "execution_count": 2,
     "metadata": {},
     "output_type": "execute_result"
    }
   ],
   "source": [
    "# Loading time series data\n",
    "\n",
    "df = pd.read_csv('/Users/cececarino/Desktop/PE/Spot price forecasting/[Final] Datasets/NSW Forecasting Dataset.csv')\n",
    "df.head()"
   ]
  },
  {
   "cell_type": "code",
   "execution_count": 3,
   "id": "f49d111b",
   "metadata": {
    "scrolled": false
   },
   "outputs": [
    {
     "name": "stdout",
     "output_type": "stream",
     "text": [
      "<class 'pandas.core.frame.DataFrame'>\n",
      "RangeIndex: 9664 entries, 0 to 9663\n",
      "Data columns (total 15 columns):\n",
      " #   Column             Non-Null Count  Dtype  \n",
      "---  ------             --------------  -----  \n",
      " 0   I                  9664 non-null   object \n",
      " 1   ROOFTOP            9664 non-null   object \n",
      " 2   ACTUAL             9664 non-null   object \n",
      " 3   2                  9664 non-null   float64\n",
      " 4   INTERVAL_DATETIME  9664 non-null   object \n",
      " 5   REGIONID           9664 non-null   object \n",
      " 6   POWER              9664 non-null   float64\n",
      " 7   QI                 9664 non-null   float64\n",
      " 8   TYPE               9664 non-null   object \n",
      " 9   LASTCHANGED        9664 non-null   object \n",
      " 10  REGION             9664 non-null   object \n",
      " 11  SETTLEMENTDATE     9664 non-null   object \n",
      " 12  TOTALDEMAND        9664 non-null   float64\n",
      " 13  RRP                9664 non-null   float64\n",
      " 14  PERIODTYPE         9664 non-null   object \n",
      "dtypes: float64(5), object(10)\n",
      "memory usage: 1.1+ MB\n"
     ]
    }
   ],
   "source": [
    "df.info()"
   ]
  },
  {
   "cell_type": "markdown",
   "id": "1fd7c445",
   "metadata": {},
   "source": [
    "## OLS ($PV$)"
   ]
  },
  {
   "cell_type": "code",
   "execution_count": 10,
   "id": "1f1f4912",
   "metadata": {},
   "outputs": [
    {
     "name": "stdout",
     "output_type": "stream",
     "text": [
      "Train shape:  (7731, 15)\n",
      "Test shape:  (1933, 15)\n"
     ]
    }
   ],
   "source": [
    "train_case, test_case = train_test_split(df, test_size=0.2, random_state=142)\n",
    "print('Train shape: ', train_case.shape)\n",
    "print('Test shape: ', test_case.shape)"
   ]
  },
  {
   "cell_type": "code",
   "execution_count": 15,
   "id": "bab33612",
   "metadata": {},
   "outputs": [
    {
     "data": {
      "text/html": [
       "<style>#sk-container-id-1 {color: black;}#sk-container-id-1 pre{padding: 0;}#sk-container-id-1 div.sk-toggleable {background-color: white;}#sk-container-id-1 label.sk-toggleable__label {cursor: pointer;display: block;width: 100%;margin-bottom: 0;padding: 0.3em;box-sizing: border-box;text-align: center;}#sk-container-id-1 label.sk-toggleable__label-arrow:before {content: \"▸\";float: left;margin-right: 0.25em;color: #696969;}#sk-container-id-1 label.sk-toggleable__label-arrow:hover:before {color: black;}#sk-container-id-1 div.sk-estimator:hover label.sk-toggleable__label-arrow:before {color: black;}#sk-container-id-1 div.sk-toggleable__content {max-height: 0;max-width: 0;overflow: hidden;text-align: left;background-color: #f0f8ff;}#sk-container-id-1 div.sk-toggleable__content pre {margin: 0.2em;color: black;border-radius: 0.25em;background-color: #f0f8ff;}#sk-container-id-1 input.sk-toggleable__control:checked~div.sk-toggleable__content {max-height: 200px;max-width: 100%;overflow: auto;}#sk-container-id-1 input.sk-toggleable__control:checked~label.sk-toggleable__label-arrow:before {content: \"▾\";}#sk-container-id-1 div.sk-estimator input.sk-toggleable__control:checked~label.sk-toggleable__label {background-color: #d4ebff;}#sk-container-id-1 div.sk-label input.sk-toggleable__control:checked~label.sk-toggleable__label {background-color: #d4ebff;}#sk-container-id-1 input.sk-hidden--visually {border: 0;clip: rect(1px 1px 1px 1px);clip: rect(1px, 1px, 1px, 1px);height: 1px;margin: -1px;overflow: hidden;padding: 0;position: absolute;width: 1px;}#sk-container-id-1 div.sk-estimator {font-family: monospace;background-color: #f0f8ff;border: 1px dotted black;border-radius: 0.25em;box-sizing: border-box;margin-bottom: 0.5em;}#sk-container-id-1 div.sk-estimator:hover {background-color: #d4ebff;}#sk-container-id-1 div.sk-parallel-item::after {content: \"\";width: 100%;border-bottom: 1px solid gray;flex-grow: 1;}#sk-container-id-1 div.sk-label:hover label.sk-toggleable__label {background-color: #d4ebff;}#sk-container-id-1 div.sk-serial::before {content: \"\";position: absolute;border-left: 1px solid gray;box-sizing: border-box;top: 0;bottom: 0;left: 50%;z-index: 0;}#sk-container-id-1 div.sk-serial {display: flex;flex-direction: column;align-items: center;background-color: white;padding-right: 0.2em;padding-left: 0.2em;position: relative;}#sk-container-id-1 div.sk-item {position: relative;z-index: 1;}#sk-container-id-1 div.sk-parallel {display: flex;align-items: stretch;justify-content: center;background-color: white;position: relative;}#sk-container-id-1 div.sk-item::before, #sk-container-id-1 div.sk-parallel-item::before {content: \"\";position: absolute;border-left: 1px solid gray;box-sizing: border-box;top: 0;bottom: 0;left: 50%;z-index: -1;}#sk-container-id-1 div.sk-parallel-item {display: flex;flex-direction: column;z-index: 1;position: relative;background-color: white;}#sk-container-id-1 div.sk-parallel-item:first-child::after {align-self: flex-end;width: 50%;}#sk-container-id-1 div.sk-parallel-item:last-child::after {align-self: flex-start;width: 50%;}#sk-container-id-1 div.sk-parallel-item:only-child::after {width: 0;}#sk-container-id-1 div.sk-dashed-wrapped {border: 1px dashed gray;margin: 0 0.4em 0.5em 0.4em;box-sizing: border-box;padding-bottom: 0.4em;background-color: white;}#sk-container-id-1 div.sk-label label {font-family: monospace;font-weight: bold;display: inline-block;line-height: 1.2em;}#sk-container-id-1 div.sk-label-container {text-align: center;}#sk-container-id-1 div.sk-container {/* jupyter's `normalize.less` sets `[hidden] { display: none; }` but bootstrap.min.css set `[hidden] { display: none !important; }` so we also need the `!important` here to be able to override the default hidden behavior on the sphinx rendered scikit-learn.org. See: https://github.com/scikit-learn/scikit-learn/issues/21755 */display: inline-block !important;position: relative;}#sk-container-id-1 div.sk-text-repr-fallback {display: none;}</style><div id=\"sk-container-id-1\" class=\"sk-top-container\"><div class=\"sk-text-repr-fallback\"><pre>LinearRegression()</pre><b>In a Jupyter environment, please rerun this cell to show the HTML representation or trust the notebook. <br />On GitHub, the HTML representation is unable to render, please try loading this page with nbviewer.org.</b></div><div class=\"sk-container\" hidden><div class=\"sk-item\"><div class=\"sk-estimator sk-toggleable\"><input class=\"sk-toggleable__control sk-hidden--visually\" id=\"sk-estimator-id-1\" type=\"checkbox\" checked><label for=\"sk-estimator-id-1\" class=\"sk-toggleable__label sk-toggleable__label-arrow\">LinearRegression</label><div class=\"sk-toggleable__content\"><pre>LinearRegression()</pre></div></div></div></div></div>"
      ],
      "text/plain": [
       "LinearRegression()"
      ]
     },
     "execution_count": 15,
     "metadata": {},
     "output_type": "execute_result"
    }
   ],
   "source": [
    "reg = linear_model.LinearRegression()\n",
    "X_train = train_case[['POWER']]\n",
    "y_train = train_case['RRP']\n",
    "\n",
    "X_test = test_case[['POWER']]\n",
    "y_test = test_case['RRP']\n",
    "\n",
    "reg.fit(X_train, y_train)"
   ]
  },
  {
   "cell_type": "code",
   "execution_count": 23,
   "id": "b6e8f156",
   "metadata": {},
   "outputs": [
    {
     "name": "stdout",
     "output_type": "stream",
     "text": [
      "reg MSE: 184647.8150589837\n",
      "reg Root MSE: 429.7066616413849\n"
     ]
    }
   ],
   "source": [
    "predicted = reg.predict(X_test)\n",
    "mse = ((np.array(y_test)-predicted)**2).sum()/len(y_test)\n",
    "rmse = np.sqrt(mse)\n",
    "print(\"reg MSE:\", mse)\n",
    "print(\"reg Root MSE:\", rmse)"
   ]
  },
  {
   "cell_type": "code",
   "execution_count": 25,
   "id": "628fb2cc",
   "metadata": {},
   "outputs": [
    {
     "name": "stdout",
     "output_type": "stream",
     "text": [
      "                            OLS Regression Results                            \n",
      "==============================================================================\n",
      "Dep. Variable:                    RRP   R-squared:                       0.029\n",
      "Model:                            OLS   Adj. R-squared:                  0.029\n",
      "Method:                 Least Squares   F-statistic:                     227.9\n",
      "Date:                Tue, 28 Nov 2023   Prob (F-statistic):           8.90e-51\n",
      "Time:                        16:10:17   Log-Likelihood:                -58382.\n",
      "No. Observations:                7731   AIC:                         1.168e+05\n",
      "Df Residuals:                    7729   BIC:                         1.168e+05\n",
      "Df Model:                           1                                         \n",
      "Covariance Type:            nonrobust                                         \n",
      "==============================================================================\n",
      "                 coef    std err          t      P>|t|      [0.025      0.975]\n",
      "------------------------------------------------------------------------------\n",
      "const        219.4644      9.467     23.182      0.000     200.907     238.022\n",
      "POWER         -0.0688      0.005    -15.097      0.000      -0.078      -0.060\n",
      "==============================================================================\n",
      "Omnibus:                    19705.986   Durbin-Watson:                   1.986\n",
      "Prob(Omnibus):                  0.000   Jarque-Bera (JB):        254894035.051\n",
      "Skew:                          28.782   Prob(JB):                         0.00\n",
      "Kurtosis:                     890.680   Cond. No.                     3.76e+03\n",
      "==============================================================================\n",
      "\n",
      "Notes:\n",
      "[1] Standard Errors assume that the covariance matrix of the errors is correctly specified.\n",
      "[2] The condition number is large, 3.76e+03. This might indicate that there are\n",
      "strong multicollinearity or other numerical problems.\n"
     ]
    }
   ],
   "source": [
    "import statsmodels.api as sm\n",
    "\n",
    "X_train = sm.add_constant(X_train)  \n",
    "\n",
    "model = sm.OLS(y_train, X_train)\n",
    "results = model.fit()\n",
    "\n",
    "print(results.summary())"
   ]
  },
  {
   "cell_type": "markdown",
   "id": "d220a276",
   "metadata": {},
   "source": [
    "1. R-squared: \n",
    "\n",
    "- 0.029 indicates that the model explains a very small proportion of the variation in the dependent variable (RRP).\n",
    "\n",
    "- This means that there are other factors that are more important in determining changes in RRP.\n",
    "\n",
    "2. F-statistic: \n",
    "\n",
    "- The F-statistic of 227.9 is highly significant (p-value = 8.90e-51), which means that the model is a good fit for the data.\n",
    "\n",
    "3. t-statistic: \n",
    "\n",
    "- The t-statistic for the explanatory variable (POWER--Actual PV) is -15.097, which is also highly significant (p-value = 0.000). \n",
    "\n",
    "- This means strong negative relationship between changes in PV generation and changes in RRP.\n",
    "\n",
    "4. Condition number: \n",
    "\n",
    "- The condition number of 3.76e+03 is very large, which indicates that there is strong multicollinearity in the data. \n",
    "\n",
    "- This means that the explanatory variables are highly correlated with each other, which can make it difficult to interpret the individual coefficients."
   ]
  },
  {
   "cell_type": "code",
   "execution_count": 26,
   "id": "3e227f53",
   "metadata": {},
   "outputs": [
    {
     "name": "stdout",
     "output_type": "stream",
     "text": [
      "  Variable       VIF\n",
      "0    const  3.263969\n",
      "1    POWER  1.000000\n"
     ]
    }
   ],
   "source": [
    "from statsmodels.stats.outliers_influence import variance_inflation_factor\n",
    "\n",
    "X_train = sm.add_constant(X_train)\n",
    "\n",
    "vif = pd.DataFrame()\n",
    "vif[\"Variable\"] = X_train.columns\n",
    "vif[\"VIF\"] = [variance_inflation_factor(X_train.values, i) for i in range(X_train.shape[1])]\n",
    "\n",
    "# Display the VIF values\n",
    "print(vif)"
   ]
  },
  {
   "cell_type": "markdown",
   "id": "81eab106",
   "metadata": {},
   "source": [
    "- A VIF greater than 5 indicates that there is a strong correlation between the explanatory variable and the other explanatory variables.\n",
    "\n",
    "- Severe multicollinearity exists, variables should be transformed."
   ]
  },
  {
   "cell_type": "markdown",
   "id": "38e37954",
   "metadata": {},
   "source": [
    "## OLS ($\\text{PV}+\\text{total demand}$)"
   ]
  },
  {
   "cell_type": "code",
   "execution_count": 4,
   "id": "16807722",
   "metadata": {},
   "outputs": [],
   "source": [
    "df2 = pd.read_csv('/Users/cececarino/Desktop/PE/Spot price forecasting/[Final] Datasets/NEM OLS.csv')"
   ]
  },
  {
   "cell_type": "code",
   "execution_count": 7,
   "id": "a6a3779e",
   "metadata": {},
   "outputs": [
    {
     "data": {
      "text/html": [
       "<div>\n",
       "<style scoped>\n",
       "    .dataframe tbody tr th:only-of-type {\n",
       "        vertical-align: middle;\n",
       "    }\n",
       "\n",
       "    .dataframe tbody tr th {\n",
       "        vertical-align: top;\n",
       "    }\n",
       "\n",
       "    .dataframe thead th {\n",
       "        text-align: right;\n",
       "    }\n",
       "</style>\n",
       "<table border=\"1\" class=\"dataframe\">\n",
       "  <thead>\n",
       "    <tr style=\"text-align: right;\">\n",
       "      <th></th>\n",
       "      <th>I</th>\n",
       "      <th>ROOFTOP</th>\n",
       "      <th>ACTUAL</th>\n",
       "      <th>2</th>\n",
       "      <th>INTERVAL_DATETIME</th>\n",
       "      <th>REGIONID</th>\n",
       "      <th>POWER</th>\n",
       "      <th>QI</th>\n",
       "      <th>TYPE</th>\n",
       "      <th>LASTCHANGED</th>\n",
       "      <th>...</th>\n",
       "      <th>REGION_y</th>\n",
       "      <th>TOTALDEMAND_y</th>\n",
       "      <th>RRP_y</th>\n",
       "      <th>PERIODTYPE_y</th>\n",
       "      <th>REGION</th>\n",
       "      <th>TOTALDEMAND</th>\n",
       "      <th>RRP</th>\n",
       "      <th>PERIODTYPE</th>\n",
       "      <th>NEMDEMAND</th>\n",
       "      <th>Npercentdemand</th>\n",
       "    </tr>\n",
       "  </thead>\n",
       "  <tbody>\n",
       "    <tr>\n",
       "      <th>0</th>\n",
       "      <td>D</td>\n",
       "      <td>ROOFTOP</td>\n",
       "      <td>ACTUAL</td>\n",
       "      <td>2</td>\n",
       "      <td>2023-04-18 07:30:00</td>\n",
       "      <td>NSW1</td>\n",
       "      <td>406.466</td>\n",
       "      <td>1.0</td>\n",
       "      <td>MEASUREMENT</td>\n",
       "      <td>4/18/23 7:49</td>\n",
       "      <td>...</td>\n",
       "      <td>VIC1</td>\n",
       "      <td>4947.70</td>\n",
       "      <td>99.48</td>\n",
       "      <td>TRADE</td>\n",
       "      <td>NSW1</td>\n",
       "      <td>7535.22</td>\n",
       "      <td>91.16</td>\n",
       "      <td>TRADE</td>\n",
       "      <td>18897.97</td>\n",
       "      <td>0.398732</td>\n",
       "    </tr>\n",
       "    <tr>\n",
       "      <th>1</th>\n",
       "      <td>D</td>\n",
       "      <td>ROOFTOP</td>\n",
       "      <td>ACTUAL</td>\n",
       "      <td>2</td>\n",
       "      <td>2023-04-18 07:30:00</td>\n",
       "      <td>NSW1</td>\n",
       "      <td>406.466</td>\n",
       "      <td>1.0</td>\n",
       "      <td>MEASUREMENT</td>\n",
       "      <td>4/18/23 7:49</td>\n",
       "      <td>...</td>\n",
       "      <td>VIC1</td>\n",
       "      <td>4947.70</td>\n",
       "      <td>99.48</td>\n",
       "      <td>TRADE</td>\n",
       "      <td>NSW1</td>\n",
       "      <td>7535.22</td>\n",
       "      <td>91.16</td>\n",
       "      <td>TRADE</td>\n",
       "      <td>18897.97</td>\n",
       "      <td>0.398732</td>\n",
       "    </tr>\n",
       "    <tr>\n",
       "      <th>2</th>\n",
       "      <td>D</td>\n",
       "      <td>ROOFTOP</td>\n",
       "      <td>ACTUAL</td>\n",
       "      <td>2</td>\n",
       "      <td>2023-04-18 07:30:00</td>\n",
       "      <td>NSW1</td>\n",
       "      <td>563.124</td>\n",
       "      <td>0.6</td>\n",
       "      <td>SATELLITE</td>\n",
       "      <td>4/18/23 7:50</td>\n",
       "      <td>...</td>\n",
       "      <td>VIC1</td>\n",
       "      <td>4947.70</td>\n",
       "      <td>99.48</td>\n",
       "      <td>TRADE</td>\n",
       "      <td>NSW1</td>\n",
       "      <td>7535.22</td>\n",
       "      <td>91.16</td>\n",
       "      <td>TRADE</td>\n",
       "      <td>18897.97</td>\n",
       "      <td>0.398732</td>\n",
       "    </tr>\n",
       "    <tr>\n",
       "      <th>3</th>\n",
       "      <td>D</td>\n",
       "      <td>ROOFTOP</td>\n",
       "      <td>ACTUAL</td>\n",
       "      <td>2</td>\n",
       "      <td>2023-04-18 07:30:00</td>\n",
       "      <td>NSW1</td>\n",
       "      <td>563.124</td>\n",
       "      <td>0.6</td>\n",
       "      <td>SATELLITE</td>\n",
       "      <td>4/18/23 7:50</td>\n",
       "      <td>...</td>\n",
       "      <td>VIC1</td>\n",
       "      <td>4947.70</td>\n",
       "      <td>99.48</td>\n",
       "      <td>TRADE</td>\n",
       "      <td>NSW1</td>\n",
       "      <td>7535.22</td>\n",
       "      <td>91.16</td>\n",
       "      <td>TRADE</td>\n",
       "      <td>18897.97</td>\n",
       "      <td>0.398732</td>\n",
       "    </tr>\n",
       "    <tr>\n",
       "      <th>4</th>\n",
       "      <td>D</td>\n",
       "      <td>ROOFTOP</td>\n",
       "      <td>ACTUAL</td>\n",
       "      <td>2</td>\n",
       "      <td>2023-04-22 08:00:00</td>\n",
       "      <td>NSW1</td>\n",
       "      <td>603.283</td>\n",
       "      <td>1.0</td>\n",
       "      <td>MEASUREMENT</td>\n",
       "      <td>4/22/23 8:19</td>\n",
       "      <td>...</td>\n",
       "      <td>VIC1</td>\n",
       "      <td>4561.59</td>\n",
       "      <td>59.01</td>\n",
       "      <td>TRADE</td>\n",
       "      <td>NSW1</td>\n",
       "      <td>6963.16</td>\n",
       "      <td>57.25</td>\n",
       "      <td>TRADE</td>\n",
       "      <td>16923.04</td>\n",
       "      <td>0.411460</td>\n",
       "    </tr>\n",
       "  </tbody>\n",
       "</table>\n",
       "<p>5 rows × 25 columns</p>\n",
       "</div>"
      ],
      "text/plain": [
       "   I  ROOFTOP  ACTUAL  2    INTERVAL_DATETIME REGIONID    POWER   QI  \\\n",
       "0  D  ROOFTOP  ACTUAL  2  2023-04-18 07:30:00     NSW1  406.466  1.0   \n",
       "1  D  ROOFTOP  ACTUAL  2  2023-04-18 07:30:00     NSW1  406.466  1.0   \n",
       "2  D  ROOFTOP  ACTUAL  2  2023-04-18 07:30:00     NSW1  563.124  0.6   \n",
       "3  D  ROOFTOP  ACTUAL  2  2023-04-18 07:30:00     NSW1  563.124  0.6   \n",
       "4  D  ROOFTOP  ACTUAL  2  2023-04-22 08:00:00     NSW1  603.283  1.0   \n",
       "\n",
       "          TYPE   LASTCHANGED  ... REGION_y TOTALDEMAND_y  RRP_y  PERIODTYPE_y  \\\n",
       "0  MEASUREMENT  4/18/23 7:49  ...     VIC1       4947.70  99.48         TRADE   \n",
       "1  MEASUREMENT  4/18/23 7:49  ...     VIC1       4947.70  99.48         TRADE   \n",
       "2    SATELLITE  4/18/23 7:50  ...     VIC1       4947.70  99.48         TRADE   \n",
       "3    SATELLITE  4/18/23 7:50  ...     VIC1       4947.70  99.48         TRADE   \n",
       "4  MEASUREMENT  4/22/23 8:19  ...     VIC1       4561.59  59.01         TRADE   \n",
       "\n",
       "  REGION TOTALDEMAND    RRP  PERIODTYPE NEMDEMAND Npercentdemand  \n",
       "0   NSW1     7535.22  91.16       TRADE  18897.97       0.398732  \n",
       "1   NSW1     7535.22  91.16       TRADE  18897.97       0.398732  \n",
       "2   NSW1     7535.22  91.16       TRADE  18897.97       0.398732  \n",
       "3   NSW1     7535.22  91.16       TRADE  18897.97       0.398732  \n",
       "4   NSW1     6963.16  57.25       TRADE  16923.04       0.411460  \n",
       "\n",
       "[5 rows x 25 columns]"
      ]
     },
     "execution_count": 7,
     "metadata": {},
     "output_type": "execute_result"
    }
   ],
   "source": [
    "df2.dropna(inplace=True)\n",
    "\n",
    "# Display the cleaned DataFrame\n",
    "df2.head()"
   ]
  },
  {
   "cell_type": "code",
   "execution_count": 8,
   "id": "32c42e72",
   "metadata": {},
   "outputs": [
    {
     "name": "stdout",
     "output_type": "stream",
     "text": [
      "Train shape:  (28316, 25)\n",
      "Test shape:  (7080, 25)\n"
     ]
    }
   ],
   "source": [
    "train_case, test_case = train_test_split(df2, test_size=0.2, random_state=142)\n",
    "print('Train shape: ', train_case.shape)\n",
    "print('Test shape: ', test_case.shape)"
   ]
  },
  {
   "cell_type": "code",
   "execution_count": 9,
   "id": "29323b70",
   "metadata": {},
   "outputs": [
    {
     "data": {
      "text/html": [
       "<style>#sk-container-id-1 {color: black;}#sk-container-id-1 pre{padding: 0;}#sk-container-id-1 div.sk-toggleable {background-color: white;}#sk-container-id-1 label.sk-toggleable__label {cursor: pointer;display: block;width: 100%;margin-bottom: 0;padding: 0.3em;box-sizing: border-box;text-align: center;}#sk-container-id-1 label.sk-toggleable__label-arrow:before {content: \"▸\";float: left;margin-right: 0.25em;color: #696969;}#sk-container-id-1 label.sk-toggleable__label-arrow:hover:before {color: black;}#sk-container-id-1 div.sk-estimator:hover label.sk-toggleable__label-arrow:before {color: black;}#sk-container-id-1 div.sk-toggleable__content {max-height: 0;max-width: 0;overflow: hidden;text-align: left;background-color: #f0f8ff;}#sk-container-id-1 div.sk-toggleable__content pre {margin: 0.2em;color: black;border-radius: 0.25em;background-color: #f0f8ff;}#sk-container-id-1 input.sk-toggleable__control:checked~div.sk-toggleable__content {max-height: 200px;max-width: 100%;overflow: auto;}#sk-container-id-1 input.sk-toggleable__control:checked~label.sk-toggleable__label-arrow:before {content: \"▾\";}#sk-container-id-1 div.sk-estimator input.sk-toggleable__control:checked~label.sk-toggleable__label {background-color: #d4ebff;}#sk-container-id-1 div.sk-label input.sk-toggleable__control:checked~label.sk-toggleable__label {background-color: #d4ebff;}#sk-container-id-1 input.sk-hidden--visually {border: 0;clip: rect(1px 1px 1px 1px);clip: rect(1px, 1px, 1px, 1px);height: 1px;margin: -1px;overflow: hidden;padding: 0;position: absolute;width: 1px;}#sk-container-id-1 div.sk-estimator {font-family: monospace;background-color: #f0f8ff;border: 1px dotted black;border-radius: 0.25em;box-sizing: border-box;margin-bottom: 0.5em;}#sk-container-id-1 div.sk-estimator:hover {background-color: #d4ebff;}#sk-container-id-1 div.sk-parallel-item::after {content: \"\";width: 100%;border-bottom: 1px solid gray;flex-grow: 1;}#sk-container-id-1 div.sk-label:hover label.sk-toggleable__label {background-color: #d4ebff;}#sk-container-id-1 div.sk-serial::before {content: \"\";position: absolute;border-left: 1px solid gray;box-sizing: border-box;top: 0;bottom: 0;left: 50%;z-index: 0;}#sk-container-id-1 div.sk-serial {display: flex;flex-direction: column;align-items: center;background-color: white;padding-right: 0.2em;padding-left: 0.2em;position: relative;}#sk-container-id-1 div.sk-item {position: relative;z-index: 1;}#sk-container-id-1 div.sk-parallel {display: flex;align-items: stretch;justify-content: center;background-color: white;position: relative;}#sk-container-id-1 div.sk-item::before, #sk-container-id-1 div.sk-parallel-item::before {content: \"\";position: absolute;border-left: 1px solid gray;box-sizing: border-box;top: 0;bottom: 0;left: 50%;z-index: -1;}#sk-container-id-1 div.sk-parallel-item {display: flex;flex-direction: column;z-index: 1;position: relative;background-color: white;}#sk-container-id-1 div.sk-parallel-item:first-child::after {align-self: flex-end;width: 50%;}#sk-container-id-1 div.sk-parallel-item:last-child::after {align-self: flex-start;width: 50%;}#sk-container-id-1 div.sk-parallel-item:only-child::after {width: 0;}#sk-container-id-1 div.sk-dashed-wrapped {border: 1px dashed gray;margin: 0 0.4em 0.5em 0.4em;box-sizing: border-box;padding-bottom: 0.4em;background-color: white;}#sk-container-id-1 div.sk-label label {font-family: monospace;font-weight: bold;display: inline-block;line-height: 1.2em;}#sk-container-id-1 div.sk-label-container {text-align: center;}#sk-container-id-1 div.sk-container {/* jupyter's `normalize.less` sets `[hidden] { display: none; }` but bootstrap.min.css set `[hidden] { display: none !important; }` so we also need the `!important` here to be able to override the default hidden behavior on the sphinx rendered scikit-learn.org. See: https://github.com/scikit-learn/scikit-learn/issues/21755 */display: inline-block !important;position: relative;}#sk-container-id-1 div.sk-text-repr-fallback {display: none;}</style><div id=\"sk-container-id-1\" class=\"sk-top-container\"><div class=\"sk-text-repr-fallback\"><pre>LinearRegression()</pre><b>In a Jupyter environment, please rerun this cell to show the HTML representation or trust the notebook. <br />On GitHub, the HTML representation is unable to render, please try loading this page with nbviewer.org.</b></div><div class=\"sk-container\" hidden><div class=\"sk-item\"><div class=\"sk-estimator sk-toggleable\"><input class=\"sk-toggleable__control sk-hidden--visually\" id=\"sk-estimator-id-1\" type=\"checkbox\" checked><label for=\"sk-estimator-id-1\" class=\"sk-toggleable__label sk-toggleable__label-arrow\">LinearRegression</label><div class=\"sk-toggleable__content\"><pre>LinearRegression()</pre></div></div></div></div></div>"
      ],
      "text/plain": [
       "LinearRegression()"
      ]
     },
     "execution_count": 9,
     "metadata": {},
     "output_type": "execute_result"
    }
   ],
   "source": [
    "reg = linear_model.LinearRegression()\n",
    "X_train = train_case[['POWER', 'TOTALDEMAND']]\n",
    "y_train = train_case['RRP']\n",
    "\n",
    "X_test = test_case[['POWER', 'TOTALDEMAND']]\n",
    "y_test = test_case['RRP']\n",
    "\n",
    "reg.fit(X_train, y_train)"
   ]
  },
  {
   "cell_type": "code",
   "execution_count": 10,
   "id": "c4fbdc06",
   "metadata": {},
   "outputs": [
    {
     "name": "stdout",
     "output_type": "stream",
     "text": [
      "reg MSE: 111081.18693390192\n",
      "reg Root MSE: 333.2884440449472\n"
     ]
    }
   ],
   "source": [
    "predicted = reg.predict(X_test)\n",
    "mse = ((np.array(y_test)-predicted)**2).sum()/len(y_test)\n",
    "rmse = np.sqrt(mse)\n",
    "print(\"reg MSE:\", mse)\n",
    "print(\"reg Root MSE:\", rmse)"
   ]
  },
  {
   "cell_type": "code",
   "execution_count": 12,
   "id": "dda661b0",
   "metadata": {},
   "outputs": [
    {
     "name": "stdout",
     "output_type": "stream",
     "text": [
      "                            OLS Regression Results                            \n",
      "==============================================================================\n",
      "Dep. Variable:                    RRP   R-squared:                       0.040\n",
      "Model:                            OLS   Adj. R-squared:                  0.040\n",
      "Method:                 Least Squares   F-statistic:                     587.6\n",
      "Date:                Wed, 29 Nov 2023   Prob (F-statistic):          9.14e-251\n",
      "Time:                        16:24:27   Log-Likelihood:            -2.0520e+05\n",
      "No. Observations:               28316   AIC:                         4.104e+05\n",
      "Df Residuals:                   28313   BIC:                         4.104e+05\n",
      "Df Model:                           2                                         \n",
      "Covariance Type:            nonrobust                                         \n",
      "===============================================================================\n",
      "                  coef    std err          t      P>|t|      [0.025      0.975]\n",
      "-------------------------------------------------------------------------------\n",
      "const        -158.3412     19.338     -8.188      0.000    -196.244    -120.438\n",
      "POWER          -0.0181      0.003     -6.548      0.000      -0.024      -0.013\n",
      "TOTALDEMAND     0.0385      0.002     17.985      0.000       0.034       0.043\n",
      "==============================================================================\n",
      "Omnibus:                    80822.908   Durbin-Watson:                   2.002\n",
      "Prob(Omnibus):                  0.000   Jarque-Bera (JB):       3018899566.603\n",
      "Skew:                          38.736   Prob(JB):                         0.00\n",
      "Kurtosis:                    1600.732   Cond. No.                     7.09e+04\n",
      "==============================================================================\n",
      "\n",
      "Notes:\n",
      "[1] Standard Errors assume that the covariance matrix of the errors is correctly specified.\n",
      "[2] The condition number is large, 7.09e+04. This might indicate that there are\n",
      "strong multicollinearity or other numerical problems.\n"
     ]
    }
   ],
   "source": [
    "import statsmodels.api as sm\n",
    "\n",
    "X_train = sm.add_constant(X_train)  \n",
    "\n",
    "model = sm.OLS(y_train, X_train)\n",
    "results = model.fit()\n",
    "\n",
    "print(results.summary())"
   ]
  },
  {
   "cell_type": "code",
   "execution_count": 14,
   "id": "d1f44dbb",
   "metadata": {},
   "outputs": [
    {
     "name": "stdout",
     "output_type": "stream",
     "text": [
      "      Variable        VIF\n",
      "0        const  91.799007\n",
      "1        POWER   2.178062\n",
      "2  TOTALDEMAND   2.178062\n"
     ]
    }
   ],
   "source": [
    "from statsmodels.stats.outliers_influence import variance_inflation_factor\n",
    "\n",
    "X_train = sm.add_constant(X_train)\n",
    "\n",
    "vif = pd.DataFrame()\n",
    "vif[\"Variable\"] = X_train.columns\n",
    "vif[\"VIF\"] = [variance_inflation_factor(X_train.values, i) for i in range(X_train.shape[1])]\n",
    "\n",
    "# Display the VIF values\n",
    "print(vif)"
   ]
  },
  {
   "cell_type": "markdown",
   "id": "3661d9a2",
   "metadata": {},
   "source": [
    "\n",
    "**const (Constant):** \n",
    "    \n",
    "- A VIF of 91.799007 indicates that there is a high level of multicollinearity associated with the constant term in your regression model.\n",
    "\n",
    "**POWER:**\n",
    "    \n",
    "- A VIF of 2.178062 indicates that there is low to moderate multicollinearity associated with the 'POWER' variable. - Generally, a VIF below 5 is considered acceptable, so 'POWER' seems to be reasonably independent.\n",
    "\n",
    "**TOTALDEMAND:**\n",
    "    \n",
    "- Similar to 'POWER', 'TOTALDEMAND' also has a VIF of 2.178062, indicating low to moderate multicollinearity.\n",
    "\n",
    "1. The constant term ('const') is likely highly correlated with other variables, which might suggest issues with the model specification or potential redundancy in the features.\n",
    "\n",
    "\n",
    "2. 'POWER' and 'TOTALDEMAND' have VIFs indicating low to moderate multicollinearity, which is generally acceptable.\n"
   ]
  },
  {
   "cell_type": "markdown",
   "id": "475f5088",
   "metadata": {},
   "source": [
    "## OLS ($\\text{PV}+\\frac{\\text{PV}}{\\text{demand}}$)"
   ]
  },
  {
   "cell_type": "markdown",
   "id": "3090656b",
   "metadata": {},
   "source": [
    "#### Creating new column for $\\frac{\\text{PV}}{\\text{demand}}$"
   ]
  },
  {
   "cell_type": "code",
   "execution_count": 15,
   "id": "f0cc96d8",
   "metadata": {},
   "outputs": [],
   "source": [
    "df2['PVdemand'] = df2['POWER']/df2['TOTALDEMAND']"
   ]
  },
  {
   "cell_type": "code",
   "execution_count": 17,
   "id": "2702196e",
   "metadata": {},
   "outputs": [
    {
     "name": "stdout",
     "output_type": "stream",
     "text": [
      "Train shape:  (28316, 26)\n",
      "Test shape:  (7080, 26)\n"
     ]
    }
   ],
   "source": [
    "train_case, test_case = train_test_split(df2, test_size=0.2, random_state=142)\n",
    "print('Train shape: ', train_case.shape)\n",
    "print('Test shape: ', test_case.shape)"
   ]
  },
  {
   "cell_type": "code",
   "execution_count": 18,
   "id": "114eea4e",
   "metadata": {},
   "outputs": [
    {
     "data": {
      "text/html": [
       "<style>#sk-container-id-2 {color: black;}#sk-container-id-2 pre{padding: 0;}#sk-container-id-2 div.sk-toggleable {background-color: white;}#sk-container-id-2 label.sk-toggleable__label {cursor: pointer;display: block;width: 100%;margin-bottom: 0;padding: 0.3em;box-sizing: border-box;text-align: center;}#sk-container-id-2 label.sk-toggleable__label-arrow:before {content: \"▸\";float: left;margin-right: 0.25em;color: #696969;}#sk-container-id-2 label.sk-toggleable__label-arrow:hover:before {color: black;}#sk-container-id-2 div.sk-estimator:hover label.sk-toggleable__label-arrow:before {color: black;}#sk-container-id-2 div.sk-toggleable__content {max-height: 0;max-width: 0;overflow: hidden;text-align: left;background-color: #f0f8ff;}#sk-container-id-2 div.sk-toggleable__content pre {margin: 0.2em;color: black;border-radius: 0.25em;background-color: #f0f8ff;}#sk-container-id-2 input.sk-toggleable__control:checked~div.sk-toggleable__content {max-height: 200px;max-width: 100%;overflow: auto;}#sk-container-id-2 input.sk-toggleable__control:checked~label.sk-toggleable__label-arrow:before {content: \"▾\";}#sk-container-id-2 div.sk-estimator input.sk-toggleable__control:checked~label.sk-toggleable__label {background-color: #d4ebff;}#sk-container-id-2 div.sk-label input.sk-toggleable__control:checked~label.sk-toggleable__label {background-color: #d4ebff;}#sk-container-id-2 input.sk-hidden--visually {border: 0;clip: rect(1px 1px 1px 1px);clip: rect(1px, 1px, 1px, 1px);height: 1px;margin: -1px;overflow: hidden;padding: 0;position: absolute;width: 1px;}#sk-container-id-2 div.sk-estimator {font-family: monospace;background-color: #f0f8ff;border: 1px dotted black;border-radius: 0.25em;box-sizing: border-box;margin-bottom: 0.5em;}#sk-container-id-2 div.sk-estimator:hover {background-color: #d4ebff;}#sk-container-id-2 div.sk-parallel-item::after {content: \"\";width: 100%;border-bottom: 1px solid gray;flex-grow: 1;}#sk-container-id-2 div.sk-label:hover label.sk-toggleable__label {background-color: #d4ebff;}#sk-container-id-2 div.sk-serial::before {content: \"\";position: absolute;border-left: 1px solid gray;box-sizing: border-box;top: 0;bottom: 0;left: 50%;z-index: 0;}#sk-container-id-2 div.sk-serial {display: flex;flex-direction: column;align-items: center;background-color: white;padding-right: 0.2em;padding-left: 0.2em;position: relative;}#sk-container-id-2 div.sk-item {position: relative;z-index: 1;}#sk-container-id-2 div.sk-parallel {display: flex;align-items: stretch;justify-content: center;background-color: white;position: relative;}#sk-container-id-2 div.sk-item::before, #sk-container-id-2 div.sk-parallel-item::before {content: \"\";position: absolute;border-left: 1px solid gray;box-sizing: border-box;top: 0;bottom: 0;left: 50%;z-index: -1;}#sk-container-id-2 div.sk-parallel-item {display: flex;flex-direction: column;z-index: 1;position: relative;background-color: white;}#sk-container-id-2 div.sk-parallel-item:first-child::after {align-self: flex-end;width: 50%;}#sk-container-id-2 div.sk-parallel-item:last-child::after {align-self: flex-start;width: 50%;}#sk-container-id-2 div.sk-parallel-item:only-child::after {width: 0;}#sk-container-id-2 div.sk-dashed-wrapped {border: 1px dashed gray;margin: 0 0.4em 0.5em 0.4em;box-sizing: border-box;padding-bottom: 0.4em;background-color: white;}#sk-container-id-2 div.sk-label label {font-family: monospace;font-weight: bold;display: inline-block;line-height: 1.2em;}#sk-container-id-2 div.sk-label-container {text-align: center;}#sk-container-id-2 div.sk-container {/* jupyter's `normalize.less` sets `[hidden] { display: none; }` but bootstrap.min.css set `[hidden] { display: none !important; }` so we also need the `!important` here to be able to override the default hidden behavior on the sphinx rendered scikit-learn.org. See: https://github.com/scikit-learn/scikit-learn/issues/21755 */display: inline-block !important;position: relative;}#sk-container-id-2 div.sk-text-repr-fallback {display: none;}</style><div id=\"sk-container-id-2\" class=\"sk-top-container\"><div class=\"sk-text-repr-fallback\"><pre>LinearRegression()</pre><b>In a Jupyter environment, please rerun this cell to show the HTML representation or trust the notebook. <br />On GitHub, the HTML representation is unable to render, please try loading this page with nbviewer.org.</b></div><div class=\"sk-container\" hidden><div class=\"sk-item\"><div class=\"sk-estimator sk-toggleable\"><input class=\"sk-toggleable__control sk-hidden--visually\" id=\"sk-estimator-id-2\" type=\"checkbox\" checked><label for=\"sk-estimator-id-2\" class=\"sk-toggleable__label sk-toggleable__label-arrow\">LinearRegression</label><div class=\"sk-toggleable__content\"><pre>LinearRegression()</pre></div></div></div></div></div>"
      ],
      "text/plain": [
       "LinearRegression()"
      ]
     },
     "execution_count": 18,
     "metadata": {},
     "output_type": "execute_result"
    }
   ],
   "source": [
    "reg = linear_model.LinearRegression()\n",
    "X_train = train_case[['POWER', 'PVdemand']]\n",
    "y_train = train_case['RRP']\n",
    "\n",
    "X_test = test_case[['POWER', 'PVdemand']]\n",
    "y_test = test_case['RRP']\n",
    "\n",
    "reg.fit(X_train, y_train)"
   ]
  },
  {
   "cell_type": "code",
   "execution_count": 19,
   "id": "fd47aa34",
   "metadata": {},
   "outputs": [
    {
     "name": "stdout",
     "output_type": "stream",
     "text": [
      "reg MSE: 111809.41987144918\n",
      "reg Root MSE: 334.3791558567148\n"
     ]
    }
   ],
   "source": [
    "predicted = reg.predict(X_test)\n",
    "mse = ((np.array(y_test)-predicted)**2).sum()/len(y_test)\n",
    "rmse = np.sqrt(mse)\n",
    "print(\"reg MSE:\", mse)\n",
    "print(\"reg Root MSE:\", rmse)"
   ]
  },
  {
   "cell_type": "code",
   "execution_count": 20,
   "id": "3fede3b4",
   "metadata": {},
   "outputs": [
    {
     "name": "stdout",
     "output_type": "stream",
     "text": [
      "                            OLS Regression Results                            \n",
      "==============================================================================\n",
      "Dep. Variable:                    RRP   R-squared:                       0.029\n",
      "Model:                            OLS   Adj. R-squared:                  0.029\n",
      "Method:                 Least Squares   F-statistic:                     430.2\n",
      "Date:                Wed, 29 Nov 2023   Prob (F-statistic):          8.71e-185\n",
      "Time:                        16:46:35   Log-Likelihood:            -2.0535e+05\n",
      "No. Observations:               28316   AIC:                         4.107e+05\n",
      "Df Residuals:                   28313   BIC:                         4.107e+05\n",
      "Df Model:                           2                                         \n",
      "Covariance Type:            nonrobust                                         \n",
      "==============================================================================\n",
      "                 coef    std err          t      P>|t|      [0.025      0.975]\n",
      "------------------------------------------------------------------------------\n",
      "const        173.9843      4.452     39.079      0.000     165.258     182.711\n",
      "POWER         -0.0280      0.007     -4.230      0.000      -0.041      -0.015\n",
      "PVdemand    -140.6342     33.348     -4.217      0.000    -205.998     -75.270\n",
      "==============================================================================\n",
      "Omnibus:                    80634.221   Durbin-Watson:                   2.005\n",
      "Prob(Omnibus):                  0.000   Jarque-Bera (JB):       2969606414.974\n",
      "Skew:                          38.493   Prob(JB):                         0.00\n",
      "Kurtosis:                    1587.627   Cond. No.                     3.53e+04\n",
      "==============================================================================\n",
      "\n",
      "Notes:\n",
      "[1] Standard Errors assume that the covariance matrix of the errors is correctly specified.\n",
      "[2] The condition number is large, 3.53e+04. This might indicate that there are\n",
      "strong multicollinearity or other numerical problems.\n"
     ]
    }
   ],
   "source": [
    "X_train = sm.add_constant(X_train)  \n",
    "\n",
    "model = sm.OLS(y_train, X_train)\n",
    "results = model.fit()\n",
    "\n",
    "print(results.summary())"
   ]
  },
  {
   "cell_type": "code",
   "execution_count": 21,
   "id": "cba0b4d6",
   "metadata": {},
   "outputs": [
    {
     "name": "stdout",
     "output_type": "stream",
     "text": [
      "   Variable        VIF\n",
      "0     const   4.813719\n",
      "1     POWER  12.314122\n",
      "2  PVdemand  12.314122\n"
     ]
    }
   ],
   "source": [
    "X_train = sm.add_constant(X_train)\n",
    "\n",
    "vif = pd.DataFrame()\n",
    "vif[\"Variable\"] = X_train.columns\n",
    "vif[\"VIF\"] = [variance_inflation_factor(X_train.values, i) for i in range(X_train.shape[1])]\n",
    "\n",
    "# Display the VIF values\n",
    "print(vif)"
   ]
  },
  {
   "cell_type": "markdown",
   "id": "3b2f6ecc",
   "metadata": {},
   "source": [
    "VIF of constant is low but for POWER and PVdemand, it is high and greater than 10 which may imply high multicollinearity."
   ]
  },
  {
   "cell_type": "markdown",
   "id": "3d817b0a",
   "metadata": {},
   "source": [
    "## OLS ($\\frac{\\text{PV}}{\\text{Total demand}}$)"
   ]
  },
  {
   "cell_type": "code",
   "execution_count": 22,
   "id": "df3c56c5",
   "metadata": {},
   "outputs": [
    {
     "data": {
      "text/html": [
       "<style>#sk-container-id-3 {color: black;}#sk-container-id-3 pre{padding: 0;}#sk-container-id-3 div.sk-toggleable {background-color: white;}#sk-container-id-3 label.sk-toggleable__label {cursor: pointer;display: block;width: 100%;margin-bottom: 0;padding: 0.3em;box-sizing: border-box;text-align: center;}#sk-container-id-3 label.sk-toggleable__label-arrow:before {content: \"▸\";float: left;margin-right: 0.25em;color: #696969;}#sk-container-id-3 label.sk-toggleable__label-arrow:hover:before {color: black;}#sk-container-id-3 div.sk-estimator:hover label.sk-toggleable__label-arrow:before {color: black;}#sk-container-id-3 div.sk-toggleable__content {max-height: 0;max-width: 0;overflow: hidden;text-align: left;background-color: #f0f8ff;}#sk-container-id-3 div.sk-toggleable__content pre {margin: 0.2em;color: black;border-radius: 0.25em;background-color: #f0f8ff;}#sk-container-id-3 input.sk-toggleable__control:checked~div.sk-toggleable__content {max-height: 200px;max-width: 100%;overflow: auto;}#sk-container-id-3 input.sk-toggleable__control:checked~label.sk-toggleable__label-arrow:before {content: \"▾\";}#sk-container-id-3 div.sk-estimator input.sk-toggleable__control:checked~label.sk-toggleable__label {background-color: #d4ebff;}#sk-container-id-3 div.sk-label input.sk-toggleable__control:checked~label.sk-toggleable__label {background-color: #d4ebff;}#sk-container-id-3 input.sk-hidden--visually {border: 0;clip: rect(1px 1px 1px 1px);clip: rect(1px, 1px, 1px, 1px);height: 1px;margin: -1px;overflow: hidden;padding: 0;position: absolute;width: 1px;}#sk-container-id-3 div.sk-estimator {font-family: monospace;background-color: #f0f8ff;border: 1px dotted black;border-radius: 0.25em;box-sizing: border-box;margin-bottom: 0.5em;}#sk-container-id-3 div.sk-estimator:hover {background-color: #d4ebff;}#sk-container-id-3 div.sk-parallel-item::after {content: \"\";width: 100%;border-bottom: 1px solid gray;flex-grow: 1;}#sk-container-id-3 div.sk-label:hover label.sk-toggleable__label {background-color: #d4ebff;}#sk-container-id-3 div.sk-serial::before {content: \"\";position: absolute;border-left: 1px solid gray;box-sizing: border-box;top: 0;bottom: 0;left: 50%;z-index: 0;}#sk-container-id-3 div.sk-serial {display: flex;flex-direction: column;align-items: center;background-color: white;padding-right: 0.2em;padding-left: 0.2em;position: relative;}#sk-container-id-3 div.sk-item {position: relative;z-index: 1;}#sk-container-id-3 div.sk-parallel {display: flex;align-items: stretch;justify-content: center;background-color: white;position: relative;}#sk-container-id-3 div.sk-item::before, #sk-container-id-3 div.sk-parallel-item::before {content: \"\";position: absolute;border-left: 1px solid gray;box-sizing: border-box;top: 0;bottom: 0;left: 50%;z-index: -1;}#sk-container-id-3 div.sk-parallel-item {display: flex;flex-direction: column;z-index: 1;position: relative;background-color: white;}#sk-container-id-3 div.sk-parallel-item:first-child::after {align-self: flex-end;width: 50%;}#sk-container-id-3 div.sk-parallel-item:last-child::after {align-self: flex-start;width: 50%;}#sk-container-id-3 div.sk-parallel-item:only-child::after {width: 0;}#sk-container-id-3 div.sk-dashed-wrapped {border: 1px dashed gray;margin: 0 0.4em 0.5em 0.4em;box-sizing: border-box;padding-bottom: 0.4em;background-color: white;}#sk-container-id-3 div.sk-label label {font-family: monospace;font-weight: bold;display: inline-block;line-height: 1.2em;}#sk-container-id-3 div.sk-label-container {text-align: center;}#sk-container-id-3 div.sk-container {/* jupyter's `normalize.less` sets `[hidden] { display: none; }` but bootstrap.min.css set `[hidden] { display: none !important; }` so we also need the `!important` here to be able to override the default hidden behavior on the sphinx rendered scikit-learn.org. See: https://github.com/scikit-learn/scikit-learn/issues/21755 */display: inline-block !important;position: relative;}#sk-container-id-3 div.sk-text-repr-fallback {display: none;}</style><div id=\"sk-container-id-3\" class=\"sk-top-container\"><div class=\"sk-text-repr-fallback\"><pre>LinearRegression()</pre><b>In a Jupyter environment, please rerun this cell to show the HTML representation or trust the notebook. <br />On GitHub, the HTML representation is unable to render, please try loading this page with nbviewer.org.</b></div><div class=\"sk-container\" hidden><div class=\"sk-item\"><div class=\"sk-estimator sk-toggleable\"><input class=\"sk-toggleable__control sk-hidden--visually\" id=\"sk-estimator-id-3\" type=\"checkbox\" checked><label for=\"sk-estimator-id-3\" class=\"sk-toggleable__label sk-toggleable__label-arrow\">LinearRegression</label><div class=\"sk-toggleable__content\"><pre>LinearRegression()</pre></div></div></div></div></div>"
      ],
      "text/plain": [
       "LinearRegression()"
      ]
     },
     "execution_count": 22,
     "metadata": {},
     "output_type": "execute_result"
    }
   ],
   "source": [
    "reg = linear_model.LinearRegression()\n",
    "X_train = train_case[['PVdemand']]\n",
    "y_train = train_case['RRP']\n",
    "\n",
    "X_test = test_case[['PVdemand']]\n",
    "y_test = test_case['RRP']\n",
    "\n",
    "reg.fit(X_train, y_train)"
   ]
  },
  {
   "cell_type": "code",
   "execution_count": 23,
   "id": "790cb67d",
   "metadata": {},
   "outputs": [
    {
     "name": "stdout",
     "output_type": "stream",
     "text": [
      "                            OLS Regression Results                            \n",
      "==============================================================================\n",
      "Dep. Variable:                    RRP   R-squared:                       0.029\n",
      "Model:                            OLS   Adj. R-squared:                  0.029\n",
      "Method:                 Least Squares   F-statistic:                     842.0\n",
      "Date:                Tue, 05 Dec 2023   Prob (F-statistic):          1.83e-182\n",
      "Time:                        09:25:55   Log-Likelihood:            -2.0536e+05\n",
      "No. Observations:               28316   AIC:                         4.107e+05\n",
      "Df Residuals:                   28314   BIC:                         4.107e+05\n",
      "Df Model:                           1                                         \n",
      "Covariance Type:            nonrobust                                         \n",
      "==============================================================================\n",
      "                 coef    std err          t      P>|t|      [0.025      0.975]\n",
      "------------------------------------------------------------------------------\n",
      "const        162.2098      3.476     46.671      0.000     155.398     169.022\n",
      "PVdemand    -275.8481      9.506    -29.018      0.000    -294.480    -257.216\n",
      "==============================================================================\n",
      "Omnibus:                    80675.651   Durbin-Watson:                   2.006\n",
      "Prob(Omnibus):                  0.000   Jarque-Bera (JB):       2980461351.147\n",
      "Skew:                          38.547   Prob(JB):                         0.00\n",
      "Kurtosis:                    1590.523   Cond. No.                         5.11\n",
      "==============================================================================\n",
      "\n",
      "Notes:\n",
      "[1] Standard Errors assume that the covariance matrix of the errors is correctly specified.\n"
     ]
    }
   ],
   "source": [
    "X_train = sm.add_constant(X_train)  \n",
    "\n",
    "model = sm.OLS(y_train, X_train)\n",
    "results = model.fit()\n",
    "\n",
    "print(results.summary())"
   ]
  },
  {
   "cell_type": "code",
   "execution_count": 24,
   "id": "56ccaa5d",
   "metadata": {},
   "outputs": [
    {
     "name": "stdout",
     "output_type": "stream",
     "text": [
      "   Variable       VIF\n",
      "0     const  2.931964\n",
      "1  PVdemand  1.000000\n"
     ]
    }
   ],
   "source": [
    "X_train = sm.add_constant(X_train)\n",
    "\n",
    "vif = pd.DataFrame()\n",
    "vif[\"Variable\"] = X_train.columns\n",
    "vif[\"VIF\"] = [variance_inflation_factor(X_train.values, i) for i in range(X_train.shape[1])]\n",
    "\n",
    "# Display the VIF values\n",
    "print(vif)"
   ]
  }
 ],
 "metadata": {
  "kernelspec": {
   "display_name": "Python 3 (ipykernel)",
   "language": "python",
   "name": "python3"
  },
  "language_info": {
   "codemirror_mode": {
    "name": "ipython",
    "version": 3
   },
   "file_extension": ".py",
   "mimetype": "text/x-python",
   "name": "python",
   "nbconvert_exporter": "python",
   "pygments_lexer": "ipython3",
   "version": "3.11.5"
  }
 },
 "nbformat": 4,
 "nbformat_minor": 5
}
