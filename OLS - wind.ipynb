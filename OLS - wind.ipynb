{
 "cells": [
  {
   "cell_type": "markdown",
   "id": "b8b59fa4",
   "metadata": {},
   "source": [
    "# OLS for price against actual demand generated (wind)\n",
    "\n",
    "# Table of contents\n",
    " 1.    [Necessary packages for OLS](#packages)\n",
    " <br><br>\n",
    " 2.    [Data preparation](#dataprep)\n",
    "\n",
    "       a. [Loading the dataset](#datainfo)\n",
    "     \n",
    "       b. [Removing NA values](#removena)\n",
    "       \n",
    "       c. [Filtering for uniformity](#filteruniform)\n",
    "       <br>\n",
    " 3.   [OLS Models](#olsmodel)\n",
    "     \n",
    "       a. [OLS Model (Ave MWH Reading)](#olsmodel1)\n",
    "       \n",
    "       b. [OLS Model ( $\\frac{\\text{Ave MWH Reading}}{\\text{demand}}$ )](#olsmodel2)\n",
    "       \n",
    "       c. [OLS model ( $\\text{Ave MWH Reading}+\\frac{\\text{Ave MWH Reading}}{\\text{demand}}$ )](#olsmodel3)\n",
    "       \n",
    "       d. [OLS model ( $\\log{\\text{Ave MWH Reading}}$ )](#olsmodel4)"
   ]
  },
  {
   "cell_type": "markdown",
   "id": "30f52854",
   "metadata": {},
   "source": [
    "## A. Necessary packages  <a name=\"packages\"></a>"
   ]
  },
  {
   "cell_type": "code",
   "execution_count": 1,
   "id": "7594d582",
   "metadata": {},
   "outputs": [],
   "source": [
    "import pandas as pd\n",
    "import numpy as np\n",
    "from sklearn import linear_model\n",
    "from sklearn.model_selection import train_test_split\n",
    "from sklearn.metrics import mean_squared_error\n",
    "from datetime import datetime, timedelta\n",
    "import statsmodels.api as sm\n",
    "from statsmodels.stats.outliers_influence import variance_inflation_factor"
   ]
  },
  {
   "cell_type": "markdown",
   "id": "e5a3c444",
   "metadata": {},
   "source": [
    "## B. Data preparation <a name=\"dataprep\"></a>"
   ]
  },
  {
   "cell_type": "markdown",
   "id": "933cf3e9",
   "metadata": {},
   "source": [
    "### 1. Loading the dataset <a name=\"datainfo\"></a>"
   ]
  },
  {
   "cell_type": "code",
   "execution_count": 2,
   "id": "0c7545d9",
   "metadata": {},
   "outputs": [],
   "source": [
    "df = pd.read_csv('/Users/cececarino/Desktop/PE/Spot price forecasting/[Final] Datasets/NSW Wind(2022-2023).csv')"
   ]
  },
  {
   "cell_type": "code",
   "execution_count": 3,
   "id": "d4770830",
   "metadata": {
    "scrolled": false
   },
   "outputs": [
    {
     "data": {
      "text/html": [
       "<div>\n",
       "<style scoped>\n",
       "    .dataframe tbody tr th:only-of-type {\n",
       "        vertical-align: middle;\n",
       "    }\n",
       "\n",
       "    .dataframe tbody tr th {\n",
       "        vertical-align: top;\n",
       "    }\n",
       "\n",
       "    .dataframe thead th {\n",
       "        text-align: right;\n",
       "    }\n",
       "</style>\n",
       "<table border=\"1\" class=\"dataframe\">\n",
       "  <thead>\n",
       "    <tr style=\"text-align: right;\">\n",
       "      <th></th>\n",
       "      <th>I</th>\n",
       "      <th>METER_DATA</th>\n",
       "      <th>GEN_DUID</th>\n",
       "      <th>1</th>\n",
       "      <th>DUID</th>\n",
       "      <th>MWH_READING</th>\n",
       "      <th>LASTCHANGED</th>\n",
       "      <th>INTERVAL</th>\n",
       "      <th>AveMWH_READING</th>\n",
       "      <th>REGION</th>\n",
       "      <th>SETTLEMENTDATE</th>\n",
       "      <th>TOTALDEMAND</th>\n",
       "      <th>RRP</th>\n",
       "      <th>PERIODTYPE</th>\n",
       "    </tr>\n",
       "  </thead>\n",
       "  <tbody>\n",
       "    <tr>\n",
       "      <th>0</th>\n",
       "      <td>D</td>\n",
       "      <td>METER_DATA</td>\n",
       "      <td>GEN_DUID</td>\n",
       "      <td>1.0</td>\n",
       "      <td>CULLRGWF</td>\n",
       "      <td>20.980000</td>\n",
       "      <td>2022/10/01 04:25:03</td>\n",
       "      <td>2022-10-01 04:30:00</td>\n",
       "      <td>11.805815</td>\n",
       "      <td>NSW1</td>\n",
       "      <td>2022-10-01 04:30:00</td>\n",
       "      <td>6274.24</td>\n",
       "      <td>152.14</td>\n",
       "      <td>TRADE</td>\n",
       "    </tr>\n",
       "    <tr>\n",
       "      <th>1</th>\n",
       "      <td>D</td>\n",
       "      <td>METER_DATA</td>\n",
       "      <td>GEN_DUID</td>\n",
       "      <td>1.0</td>\n",
       "      <td>CAPTL_WF</td>\n",
       "      <td>64.551765</td>\n",
       "      <td>2022/10/01 04:25:03</td>\n",
       "      <td>2022-10-01 04:30:00</td>\n",
       "      <td>11.805815</td>\n",
       "      <td>NSW1</td>\n",
       "      <td>2022-10-01 04:30:00</td>\n",
       "      <td>6274.24</td>\n",
       "      <td>152.14</td>\n",
       "      <td>TRADE</td>\n",
       "    </tr>\n",
       "    <tr>\n",
       "      <th>2</th>\n",
       "      <td>D</td>\n",
       "      <td>METER_DATA</td>\n",
       "      <td>GEN_DUID</td>\n",
       "      <td>1.0</td>\n",
       "      <td>CAPTL_WF</td>\n",
       "      <td>46.528053</td>\n",
       "      <td>2022/10/01 04:55:03</td>\n",
       "      <td>2022-10-01 05:00:00</td>\n",
       "      <td>10.212102</td>\n",
       "      <td>NSW1</td>\n",
       "      <td>2022-10-01 05:00:00</td>\n",
       "      <td>6417.10</td>\n",
       "      <td>156.11</td>\n",
       "      <td>TRADE</td>\n",
       "    </tr>\n",
       "    <tr>\n",
       "      <th>3</th>\n",
       "      <td>D</td>\n",
       "      <td>METER_DATA</td>\n",
       "      <td>GEN_DUID</td>\n",
       "      <td>1.0</td>\n",
       "      <td>CULLRGWF</td>\n",
       "      <td>18.160000</td>\n",
       "      <td>2022/10/01 04:55:03</td>\n",
       "      <td>2022-10-01 05:00:00</td>\n",
       "      <td>10.212102</td>\n",
       "      <td>NSW1</td>\n",
       "      <td>2022-10-01 05:00:00</td>\n",
       "      <td>6417.10</td>\n",
       "      <td>156.11</td>\n",
       "      <td>TRADE</td>\n",
       "    </tr>\n",
       "    <tr>\n",
       "      <th>4</th>\n",
       "      <td>D</td>\n",
       "      <td>METER_DATA</td>\n",
       "      <td>GEN_DUID</td>\n",
       "      <td>1.0</td>\n",
       "      <td>CAPTL_WF</td>\n",
       "      <td>42.270176</td>\n",
       "      <td>2022/10/01 05:25:03</td>\n",
       "      <td>2022-10-01 05:30:00</td>\n",
       "      <td>10.105626</td>\n",
       "      <td>NSW1</td>\n",
       "      <td>2022-10-01 05:30:00</td>\n",
       "      <td>6423.95</td>\n",
       "      <td>162.00</td>\n",
       "      <td>TRADE</td>\n",
       "    </tr>\n",
       "  </tbody>\n",
       "</table>\n",
       "</div>"
      ],
      "text/plain": [
       "   I  METER_DATA  GEN_DUID    1      DUID  MWH_READING          LASTCHANGED  \\\n",
       "0  D  METER_DATA  GEN_DUID  1.0  CULLRGWF    20.980000  2022/10/01 04:25:03   \n",
       "1  D  METER_DATA  GEN_DUID  1.0  CAPTL_WF    64.551765  2022/10/01 04:25:03   \n",
       "2  D  METER_DATA  GEN_DUID  1.0  CAPTL_WF    46.528053  2022/10/01 04:55:03   \n",
       "3  D  METER_DATA  GEN_DUID  1.0  CULLRGWF    18.160000  2022/10/01 04:55:03   \n",
       "4  D  METER_DATA  GEN_DUID  1.0  CAPTL_WF    42.270176  2022/10/01 05:25:03   \n",
       "\n",
       "              INTERVAL  AveMWH_READING REGION       SETTLEMENTDATE  \\\n",
       "0  2022-10-01 04:30:00       11.805815   NSW1  2022-10-01 04:30:00   \n",
       "1  2022-10-01 04:30:00       11.805815   NSW1  2022-10-01 04:30:00   \n",
       "2  2022-10-01 05:00:00       10.212102   NSW1  2022-10-01 05:00:00   \n",
       "3  2022-10-01 05:00:00       10.212102   NSW1  2022-10-01 05:00:00   \n",
       "4  2022-10-01 05:30:00       10.105626   NSW1  2022-10-01 05:30:00   \n",
       "\n",
       "   TOTALDEMAND     RRP PERIODTYPE  \n",
       "0      6274.24  152.14      TRADE  \n",
       "1      6274.24  152.14      TRADE  \n",
       "2      6417.10  156.11      TRADE  \n",
       "3      6417.10  156.11      TRADE  \n",
       "4      6423.95  162.00      TRADE  "
      ]
     },
     "execution_count": 3,
     "metadata": {},
     "output_type": "execute_result"
    }
   ],
   "source": [
    "df.head()"
   ]
  },
  {
   "cell_type": "markdown",
   "id": "8090d219",
   "metadata": {},
   "source": [
    "### 2. Removing null values from the dataset <a name=\"removena\"></a>"
   ]
  },
  {
   "cell_type": "code",
   "execution_count": 4,
   "id": "4787d858",
   "metadata": {},
   "outputs": [],
   "source": [
    "df.dropna(inplace=True)"
   ]
  },
  {
   "cell_type": "markdown",
   "id": "6dfb254d",
   "metadata": {},
   "source": [
    "### 3. Filtering data for uniformity <a name=\"filteruniform\"></a>\n",
    "\n",
    "- 2022-10-13 to 2023-11-21 timeframe as it was done for data on daylight saving hours"
   ]
  },
  {
   "cell_type": "code",
   "execution_count": 5,
   "id": "05bda3d1",
   "metadata": {},
   "outputs": [],
   "source": [
    "df['INTERVAL'] = pd.to_datetime(df['INTERVAL'])\n",
    "\n",
    "# Filter the DataFrame for the time range from 8 am to 6 pm\n",
    "start_date = pd.to_datetime('2022-10-13')\n",
    "end_date = pd.to_datetime('2023-11-21')\n",
    "\n",
    "df = df[(df['INTERVAL'] >= start_date) & (df['INTERVAL'] <= end_date)]"
   ]
  },
  {
   "cell_type": "code",
   "execution_count": 6,
   "id": "aab1b057",
   "metadata": {
    "scrolled": true
   },
   "outputs": [
    {
     "data": {
      "text/html": [
       "<div>\n",
       "<style scoped>\n",
       "    .dataframe tbody tr th:only-of-type {\n",
       "        vertical-align: middle;\n",
       "    }\n",
       "\n",
       "    .dataframe tbody tr th {\n",
       "        vertical-align: top;\n",
       "    }\n",
       "\n",
       "    .dataframe thead th {\n",
       "        text-align: right;\n",
       "    }\n",
       "</style>\n",
       "<table border=\"1\" class=\"dataframe\">\n",
       "  <thead>\n",
       "    <tr style=\"text-align: right;\">\n",
       "      <th></th>\n",
       "      <th>I</th>\n",
       "      <th>METER_DATA</th>\n",
       "      <th>GEN_DUID</th>\n",
       "      <th>1</th>\n",
       "      <th>DUID</th>\n",
       "      <th>MWH_READING</th>\n",
       "      <th>LASTCHANGED</th>\n",
       "      <th>INTERVAL</th>\n",
       "      <th>AveMWH_READING</th>\n",
       "      <th>REGION</th>\n",
       "      <th>SETTLEMENTDATE</th>\n",
       "      <th>TOTALDEMAND</th>\n",
       "      <th>RRP</th>\n",
       "      <th>PERIODTYPE</th>\n",
       "    </tr>\n",
       "  </thead>\n",
       "  <tbody>\n",
       "    <tr>\n",
       "      <th>1134</th>\n",
       "      <td>D</td>\n",
       "      <td>METER_DATA</td>\n",
       "      <td>GEN_DUID</td>\n",
       "      <td>1.0</td>\n",
       "      <td>CAPTL_WF</td>\n",
       "      <td>16.844007</td>\n",
       "      <td>2022/10/12 23:55:03</td>\n",
       "      <td>2022-10-13 00:00:00</td>\n",
       "      <td>13.577516</td>\n",
       "      <td>NSW1</td>\n",
       "      <td>2022-10-13 00:00:00</td>\n",
       "      <td>7286.84</td>\n",
       "      <td>157.17</td>\n",
       "      <td>TRADE</td>\n",
       "    </tr>\n",
       "    <tr>\n",
       "      <th>1135</th>\n",
       "      <td>D</td>\n",
       "      <td>METER_DATA</td>\n",
       "      <td>GEN_DUID</td>\n",
       "      <td>1.0</td>\n",
       "      <td>CULLRGWF</td>\n",
       "      <td>-0.040000</td>\n",
       "      <td>2022/10/12 23:55:03</td>\n",
       "      <td>2022-10-13 00:00:00</td>\n",
       "      <td>13.577516</td>\n",
       "      <td>NSW1</td>\n",
       "      <td>2022-10-13 00:00:00</td>\n",
       "      <td>7286.84</td>\n",
       "      <td>157.17</td>\n",
       "      <td>TRADE</td>\n",
       "    </tr>\n",
       "    <tr>\n",
       "      <th>1136</th>\n",
       "      <td>D</td>\n",
       "      <td>METER_DATA</td>\n",
       "      <td>GEN_DUID</td>\n",
       "      <td>1.0</td>\n",
       "      <td>CULLRGWF</td>\n",
       "      <td>-0.040000</td>\n",
       "      <td>2022/10/13 00:25:03</td>\n",
       "      <td>2022-10-13 00:30:00</td>\n",
       "      <td>12.832874</td>\n",
       "      <td>NSW1</td>\n",
       "      <td>2022-10-13 00:30:00</td>\n",
       "      <td>7115.44</td>\n",
       "      <td>161.42</td>\n",
       "      <td>TRADE</td>\n",
       "    </tr>\n",
       "    <tr>\n",
       "      <th>1137</th>\n",
       "      <td>D</td>\n",
       "      <td>METER_DATA</td>\n",
       "      <td>GEN_DUID</td>\n",
       "      <td>1.0</td>\n",
       "      <td>CAPTL_WF</td>\n",
       "      <td>14.808819</td>\n",
       "      <td>2022/10/13 00:25:03</td>\n",
       "      <td>2022-10-13 00:30:00</td>\n",
       "      <td>12.832874</td>\n",
       "      <td>NSW1</td>\n",
       "      <td>2022-10-13 00:30:00</td>\n",
       "      <td>7115.44</td>\n",
       "      <td>161.42</td>\n",
       "      <td>TRADE</td>\n",
       "    </tr>\n",
       "    <tr>\n",
       "      <th>1138</th>\n",
       "      <td>D</td>\n",
       "      <td>METER_DATA</td>\n",
       "      <td>GEN_DUID</td>\n",
       "      <td>1.0</td>\n",
       "      <td>CAPTL_WF</td>\n",
       "      <td>6.619242</td>\n",
       "      <td>2022/10/13 00:55:03</td>\n",
       "      <td>2022-10-13 01:00:00</td>\n",
       "      <td>13.288758</td>\n",
       "      <td>NSW1</td>\n",
       "      <td>2022-10-13 01:00:00</td>\n",
       "      <td>6885.86</td>\n",
       "      <td>158.43</td>\n",
       "      <td>TRADE</td>\n",
       "    </tr>\n",
       "  </tbody>\n",
       "</table>\n",
       "</div>"
      ],
      "text/plain": [
       "      I  METER_DATA  GEN_DUID    1      DUID  MWH_READING  \\\n",
       "1134  D  METER_DATA  GEN_DUID  1.0  CAPTL_WF    16.844007   \n",
       "1135  D  METER_DATA  GEN_DUID  1.0  CULLRGWF    -0.040000   \n",
       "1136  D  METER_DATA  GEN_DUID  1.0  CULLRGWF    -0.040000   \n",
       "1137  D  METER_DATA  GEN_DUID  1.0  CAPTL_WF    14.808819   \n",
       "1138  D  METER_DATA  GEN_DUID  1.0  CAPTL_WF     6.619242   \n",
       "\n",
       "              LASTCHANGED            INTERVAL  AveMWH_READING REGION  \\\n",
       "1134  2022/10/12 23:55:03 2022-10-13 00:00:00       13.577516   NSW1   \n",
       "1135  2022/10/12 23:55:03 2022-10-13 00:00:00       13.577516   NSW1   \n",
       "1136  2022/10/13 00:25:03 2022-10-13 00:30:00       12.832874   NSW1   \n",
       "1137  2022/10/13 00:25:03 2022-10-13 00:30:00       12.832874   NSW1   \n",
       "1138  2022/10/13 00:55:03 2022-10-13 01:00:00       13.288758   NSW1   \n",
       "\n",
       "           SETTLEMENTDATE  TOTALDEMAND     RRP PERIODTYPE  \n",
       "1134  2022-10-13 00:00:00      7286.84  157.17      TRADE  \n",
       "1135  2022-10-13 00:00:00      7286.84  157.17      TRADE  \n",
       "1136  2022-10-13 00:30:00      7115.44  161.42      TRADE  \n",
       "1137  2022-10-13 00:30:00      7115.44  161.42      TRADE  \n",
       "1138  2022-10-13 01:00:00      6885.86  158.43      TRADE  "
      ]
     },
     "execution_count": 6,
     "metadata": {},
     "output_type": "execute_result"
    }
   ],
   "source": [
    "df.head()"
   ]
  },
  {
   "cell_type": "code",
   "execution_count": 7,
   "id": "e1804ac5",
   "metadata": {},
   "outputs": [
    {
     "data": {
      "text/html": [
       "<div>\n",
       "<style scoped>\n",
       "    .dataframe tbody tr th:only-of-type {\n",
       "        vertical-align: middle;\n",
       "    }\n",
       "\n",
       "    .dataframe tbody tr th {\n",
       "        vertical-align: top;\n",
       "    }\n",
       "\n",
       "    .dataframe thead th {\n",
       "        text-align: right;\n",
       "    }\n",
       "</style>\n",
       "<table border=\"1\" class=\"dataframe\">\n",
       "  <thead>\n",
       "    <tr style=\"text-align: right;\">\n",
       "      <th></th>\n",
       "      <th>I</th>\n",
       "      <th>METER_DATA</th>\n",
       "      <th>GEN_DUID</th>\n",
       "      <th>1</th>\n",
       "      <th>LASTCHANGED</th>\n",
       "      <th>INTERVAL</th>\n",
       "      <th>AveMWH_READING</th>\n",
       "      <th>REGION</th>\n",
       "      <th>SETTLEMENTDATE</th>\n",
       "      <th>TOTALDEMAND</th>\n",
       "      <th>RRP</th>\n",
       "      <th>PERIODTYPE</th>\n",
       "    </tr>\n",
       "  </thead>\n",
       "  <tbody>\n",
       "    <tr>\n",
       "      <th>1134</th>\n",
       "      <td>D</td>\n",
       "      <td>METER_DATA</td>\n",
       "      <td>GEN_DUID</td>\n",
       "      <td>1.0</td>\n",
       "      <td>2022/10/12 23:55:03</td>\n",
       "      <td>2022-10-13 00:00:00</td>\n",
       "      <td>13.577516</td>\n",
       "      <td>NSW1</td>\n",
       "      <td>2022-10-13 00:00:00</td>\n",
       "      <td>7286.84</td>\n",
       "      <td>157.17</td>\n",
       "      <td>TRADE</td>\n",
       "    </tr>\n",
       "    <tr>\n",
       "      <th>1136</th>\n",
       "      <td>D</td>\n",
       "      <td>METER_DATA</td>\n",
       "      <td>GEN_DUID</td>\n",
       "      <td>1.0</td>\n",
       "      <td>2022/10/13 00:25:03</td>\n",
       "      <td>2022-10-13 00:30:00</td>\n",
       "      <td>12.832874</td>\n",
       "      <td>NSW1</td>\n",
       "      <td>2022-10-13 00:30:00</td>\n",
       "      <td>7115.44</td>\n",
       "      <td>161.42</td>\n",
       "      <td>TRADE</td>\n",
       "    </tr>\n",
       "    <tr>\n",
       "      <th>1138</th>\n",
       "      <td>D</td>\n",
       "      <td>METER_DATA</td>\n",
       "      <td>GEN_DUID</td>\n",
       "      <td>1.0</td>\n",
       "      <td>2022/10/13 00:55:03</td>\n",
       "      <td>2022-10-13 01:00:00</td>\n",
       "      <td>13.288758</td>\n",
       "      <td>NSW1</td>\n",
       "      <td>2022-10-13 01:00:00</td>\n",
       "      <td>6885.86</td>\n",
       "      <td>158.43</td>\n",
       "      <td>TRADE</td>\n",
       "    </tr>\n",
       "    <tr>\n",
       "      <th>1140</th>\n",
       "      <td>D</td>\n",
       "      <td>METER_DATA</td>\n",
       "      <td>GEN_DUID</td>\n",
       "      <td>1.0</td>\n",
       "      <td>2022/10/13 01:25:03</td>\n",
       "      <td>2022-10-13 01:30:00</td>\n",
       "      <td>14.584467</td>\n",
       "      <td>NSW1</td>\n",
       "      <td>2022-10-13 01:30:00</td>\n",
       "      <td>6586.08</td>\n",
       "      <td>148.99</td>\n",
       "      <td>TRADE</td>\n",
       "    </tr>\n",
       "    <tr>\n",
       "      <th>1142</th>\n",
       "      <td>D</td>\n",
       "      <td>METER_DATA</td>\n",
       "      <td>GEN_DUID</td>\n",
       "      <td>1.0</td>\n",
       "      <td>2022/10/13 01:55:03</td>\n",
       "      <td>2022-10-13 02:00:00</td>\n",
       "      <td>14.843988</td>\n",
       "      <td>NSW1</td>\n",
       "      <td>2022-10-13 02:00:00</td>\n",
       "      <td>6543.18</td>\n",
       "      <td>126.26</td>\n",
       "      <td>TRADE</td>\n",
       "    </tr>\n",
       "  </tbody>\n",
       "</table>\n",
       "</div>"
      ],
      "text/plain": [
       "      I  METER_DATA  GEN_DUID    1          LASTCHANGED            INTERVAL  \\\n",
       "1134  D  METER_DATA  GEN_DUID  1.0  2022/10/12 23:55:03 2022-10-13 00:00:00   \n",
       "1136  D  METER_DATA  GEN_DUID  1.0  2022/10/13 00:25:03 2022-10-13 00:30:00   \n",
       "1138  D  METER_DATA  GEN_DUID  1.0  2022/10/13 00:55:03 2022-10-13 01:00:00   \n",
       "1140  D  METER_DATA  GEN_DUID  1.0  2022/10/13 01:25:03 2022-10-13 01:30:00   \n",
       "1142  D  METER_DATA  GEN_DUID  1.0  2022/10/13 01:55:03 2022-10-13 02:00:00   \n",
       "\n",
       "      AveMWH_READING REGION       SETTLEMENTDATE  TOTALDEMAND     RRP  \\\n",
       "1134       13.577516   NSW1  2022-10-13 00:00:00      7286.84  157.17   \n",
       "1136       12.832874   NSW1  2022-10-13 00:30:00      7115.44  161.42   \n",
       "1138       13.288758   NSW1  2022-10-13 01:00:00      6885.86  158.43   \n",
       "1140       14.584467   NSW1  2022-10-13 01:30:00      6586.08  148.99   \n",
       "1142       14.843988   NSW1  2022-10-13 02:00:00      6543.18  126.26   \n",
       "\n",
       "     PERIODTYPE  \n",
       "1134      TRADE  \n",
       "1136      TRADE  \n",
       "1138      TRADE  \n",
       "1140      TRADE  \n",
       "1142      TRADE  "
      ]
     },
     "execution_count": 7,
     "metadata": {},
     "output_type": "execute_result"
    }
   ],
   "source": [
    "df.drop(columns=[\"DUID\", \"MWH_READING\"], inplace=True)\n",
    "df.drop_duplicates(inplace=True)\n",
    "df.head()"
   ]
  },
  {
   "cell_type": "markdown",
   "id": "e50c39ac",
   "metadata": {},
   "source": [
    "## C. OLS Models <a name=\"olsmodel\"></a>"
   ]
  },
  {
   "cell_type": "markdown",
   "id": "4a388dba",
   "metadata": {},
   "source": [
    "### 1. OLS (Ave_MWH_Reading) <a name=\"olsmodel1\"></a>"
   ]
  },
  {
   "cell_type": "code",
   "execution_count": 8,
   "id": "2c1a2c13",
   "metadata": {},
   "outputs": [
    {
     "name": "stdout",
     "output_type": "stream",
     "text": [
      "Train shape:  (14714, 12)\n",
      "Test shape:  (3679, 12)\n"
     ]
    }
   ],
   "source": [
    "train_case, test_case = train_test_split(df, test_size=0.2, random_state=142)\n",
    "print('Train shape: ', train_case.shape)\n",
    "print('Test shape: ', test_case.shape)"
   ]
  },
  {
   "cell_type": "code",
   "execution_count": 9,
   "id": "6e4978e2",
   "metadata": {},
   "outputs": [],
   "source": [
    "reg_w = linear_model.LinearRegression()\n",
    "X_trainw = train_case[['AveMWH_READING']]\n",
    "y_trainw = train_case['RRP']\n",
    "\n",
    "X_testw = test_case[['AveMWH_READING']]\n",
    "y_testw = test_case['RRP']\n",
    "\n",
    "resultsw = reg_w.fit(X_trainw, y_trainw)"
   ]
  },
  {
   "cell_type": "code",
   "execution_count": 10,
   "id": "9e680bb1",
   "metadata": {},
   "outputs": [
    {
     "name": "stdout",
     "output_type": "stream",
     "text": [
      "reg MSE: 74010.88717523085\n",
      "reg Root MSE: 272.04942046479505\n"
     ]
    }
   ],
   "source": [
    "predictedw = reg_w.predict(X_testw)\n",
    "msew = ((np.array(y_testw)-predictedw)**2).sum()/len(y_testw)\n",
    "rmsew = np.sqrt(msew)\n",
    "print(\"reg MSE:\", msew)\n",
    "print(\"reg Root MSE:\", rmsew)"
   ]
  },
  {
   "cell_type": "code",
   "execution_count": 11,
   "id": "ba3e8d52",
   "metadata": {
    "scrolled": true
   },
   "outputs": [
    {
     "name": "stdout",
     "output_type": "stream",
     "text": [
      "                            OLS Regression Results                            \n",
      "==============================================================================\n",
      "Dep. Variable:                    RRP   R-squared:                       0.001\n",
      "Model:                            OLS   Adj. R-squared:                  0.001\n",
      "Method:                 Least Squares   F-statistic:                     10.99\n",
      "Date:                Tue, 12 Dec 2023   Prob (F-statistic):           0.000919\n",
      "Time:                        15:21:53   Log-Likelihood:            -1.0704e+05\n",
      "No. Observations:               14714   AIC:                         2.141e+05\n",
      "Df Residuals:                   14712   BIC:                         2.141e+05\n",
      "Df Model:                           1                                         \n",
      "Covariance Type:            nonrobust                                         \n",
      "==================================================================================\n",
      "                     coef    std err          t      P>|t|      [0.025      0.975]\n",
      "----------------------------------------------------------------------------------\n",
      "const            127.9111      7.675     16.666      0.000     112.867     142.955\n",
      "AveMWH_READING    -1.7549      0.529     -3.315      0.001      -2.793      -0.717\n",
      "==============================================================================\n",
      "Omnibus:                    41378.695   Durbin-Watson:                   2.001\n",
      "Prob(Omnibus):                  0.000   Jarque-Bera (JB):       1355581506.751\n",
      "Skew:                          37.114   Prob(JB):                         0.00\n",
      "Kurtosis:                    1488.119   Cond. No.                         38.8\n",
      "==============================================================================\n",
      "\n",
      "Notes:\n",
      "[1] Standard Errors assume that the covariance matrix of the errors is correctly specified.\n"
     ]
    }
   ],
   "source": [
    "X_trainw = sm.add_constant(X_trainw)  \n",
    "\n",
    "modelw = sm.OLS(y_trainw, X_trainw)\n",
    "resultsw = modelw.fit()\n",
    "\n",
    "print(resultsw.summary())"
   ]
  },
  {
   "cell_type": "code",
   "execution_count": 12,
   "id": "df1fd192",
   "metadata": {},
   "outputs": [
    {
     "data": {
      "text/html": [
       "<div>\n",
       "<style scoped>\n",
       "    .dataframe tbody tr th:only-of-type {\n",
       "        vertical-align: middle;\n",
       "    }\n",
       "\n",
       "    .dataframe tbody tr th {\n",
       "        vertical-align: top;\n",
       "    }\n",
       "\n",
       "    .dataframe thead th {\n",
       "        text-align: right;\n",
       "    }\n",
       "</style>\n",
       "<table border=\"1\" class=\"dataframe\">\n",
       "  <thead>\n",
       "    <tr style=\"text-align: right;\">\n",
       "      <th></th>\n",
       "      <th>Variable</th>\n",
       "      <th>VIF</th>\n",
       "    </tr>\n",
       "  </thead>\n",
       "  <tbody>\n",
       "    <tr>\n",
       "      <th>0</th>\n",
       "      <td>const</td>\n",
       "      <td>7.108462</td>\n",
       "    </tr>\n",
       "    <tr>\n",
       "      <th>1</th>\n",
       "      <td>AveMWH_READING</td>\n",
       "      <td>1.000000</td>\n",
       "    </tr>\n",
       "  </tbody>\n",
       "</table>\n",
       "</div>"
      ],
      "text/plain": [
       "         Variable       VIF\n",
       "0           const  7.108462\n",
       "1  AveMWH_READING  1.000000"
      ]
     },
     "execution_count": 12,
     "metadata": {},
     "output_type": "execute_result"
    }
   ],
   "source": [
    "vifw = pd.DataFrame()\n",
    "vifw[\"Variable\"] = X_trainw.columns\n",
    "vifw[\"VIF\"] = [variance_inflation_factor(X_trainw.values, i) for i in range(X_trainw.shape[1])]\n",
    "\n",
    "vifw"
   ]
  },
  {
   "cell_type": "markdown",
   "id": "f58672a8",
   "metadata": {},
   "source": [
    "### 2. OLS ($\\frac{\\text{Average MWH Reading}}{\\text{Demand}}$) <a name=\"olsmodel2\"></a>"
   ]
  },
  {
   "cell_type": "code",
   "execution_count": 13,
   "id": "4cbdbddf",
   "metadata": {},
   "outputs": [],
   "source": [
    "df2 = df.copy()\n",
    "df2['MWHdemand'] = df2['AveMWH_READING']/df2['TOTALDEMAND']"
   ]
  },
  {
   "cell_type": "code",
   "execution_count": 14,
   "id": "c1ca5ef4",
   "metadata": {
    "scrolled": true
   },
   "outputs": [
    {
     "data": {
      "text/html": [
       "<div>\n",
       "<style scoped>\n",
       "    .dataframe tbody tr th:only-of-type {\n",
       "        vertical-align: middle;\n",
       "    }\n",
       "\n",
       "    .dataframe tbody tr th {\n",
       "        vertical-align: top;\n",
       "    }\n",
       "\n",
       "    .dataframe thead th {\n",
       "        text-align: right;\n",
       "    }\n",
       "</style>\n",
       "<table border=\"1\" class=\"dataframe\">\n",
       "  <thead>\n",
       "    <tr style=\"text-align: right;\">\n",
       "      <th></th>\n",
       "      <th>I</th>\n",
       "      <th>METER_DATA</th>\n",
       "      <th>GEN_DUID</th>\n",
       "      <th>1</th>\n",
       "      <th>LASTCHANGED</th>\n",
       "      <th>INTERVAL</th>\n",
       "      <th>AveMWH_READING</th>\n",
       "      <th>REGION</th>\n",
       "      <th>SETTLEMENTDATE</th>\n",
       "      <th>TOTALDEMAND</th>\n",
       "      <th>RRP</th>\n",
       "      <th>PERIODTYPE</th>\n",
       "      <th>MWHdemand</th>\n",
       "    </tr>\n",
       "  </thead>\n",
       "  <tbody>\n",
       "    <tr>\n",
       "      <th>1134</th>\n",
       "      <td>D</td>\n",
       "      <td>METER_DATA</td>\n",
       "      <td>GEN_DUID</td>\n",
       "      <td>1.0</td>\n",
       "      <td>2022/10/12 23:55:03</td>\n",
       "      <td>2022-10-13 00:00:00</td>\n",
       "      <td>13.577516</td>\n",
       "      <td>NSW1</td>\n",
       "      <td>2022-10-13 00:00:00</td>\n",
       "      <td>7286.84</td>\n",
       "      <td>157.17</td>\n",
       "      <td>TRADE</td>\n",
       "      <td>0.001863</td>\n",
       "    </tr>\n",
       "    <tr>\n",
       "      <th>1136</th>\n",
       "      <td>D</td>\n",
       "      <td>METER_DATA</td>\n",
       "      <td>GEN_DUID</td>\n",
       "      <td>1.0</td>\n",
       "      <td>2022/10/13 00:25:03</td>\n",
       "      <td>2022-10-13 00:30:00</td>\n",
       "      <td>12.832874</td>\n",
       "      <td>NSW1</td>\n",
       "      <td>2022-10-13 00:30:00</td>\n",
       "      <td>7115.44</td>\n",
       "      <td>161.42</td>\n",
       "      <td>TRADE</td>\n",
       "      <td>0.001804</td>\n",
       "    </tr>\n",
       "    <tr>\n",
       "      <th>1138</th>\n",
       "      <td>D</td>\n",
       "      <td>METER_DATA</td>\n",
       "      <td>GEN_DUID</td>\n",
       "      <td>1.0</td>\n",
       "      <td>2022/10/13 00:55:03</td>\n",
       "      <td>2022-10-13 01:00:00</td>\n",
       "      <td>13.288758</td>\n",
       "      <td>NSW1</td>\n",
       "      <td>2022-10-13 01:00:00</td>\n",
       "      <td>6885.86</td>\n",
       "      <td>158.43</td>\n",
       "      <td>TRADE</td>\n",
       "      <td>0.001930</td>\n",
       "    </tr>\n",
       "    <tr>\n",
       "      <th>1140</th>\n",
       "      <td>D</td>\n",
       "      <td>METER_DATA</td>\n",
       "      <td>GEN_DUID</td>\n",
       "      <td>1.0</td>\n",
       "      <td>2022/10/13 01:25:03</td>\n",
       "      <td>2022-10-13 01:30:00</td>\n",
       "      <td>14.584467</td>\n",
       "      <td>NSW1</td>\n",
       "      <td>2022-10-13 01:30:00</td>\n",
       "      <td>6586.08</td>\n",
       "      <td>148.99</td>\n",
       "      <td>TRADE</td>\n",
       "      <td>0.002214</td>\n",
       "    </tr>\n",
       "    <tr>\n",
       "      <th>1142</th>\n",
       "      <td>D</td>\n",
       "      <td>METER_DATA</td>\n",
       "      <td>GEN_DUID</td>\n",
       "      <td>1.0</td>\n",
       "      <td>2022/10/13 01:55:03</td>\n",
       "      <td>2022-10-13 02:00:00</td>\n",
       "      <td>14.843988</td>\n",
       "      <td>NSW1</td>\n",
       "      <td>2022-10-13 02:00:00</td>\n",
       "      <td>6543.18</td>\n",
       "      <td>126.26</td>\n",
       "      <td>TRADE</td>\n",
       "      <td>0.002269</td>\n",
       "    </tr>\n",
       "  </tbody>\n",
       "</table>\n",
       "</div>"
      ],
      "text/plain": [
       "      I  METER_DATA  GEN_DUID    1          LASTCHANGED            INTERVAL  \\\n",
       "1134  D  METER_DATA  GEN_DUID  1.0  2022/10/12 23:55:03 2022-10-13 00:00:00   \n",
       "1136  D  METER_DATA  GEN_DUID  1.0  2022/10/13 00:25:03 2022-10-13 00:30:00   \n",
       "1138  D  METER_DATA  GEN_DUID  1.0  2022/10/13 00:55:03 2022-10-13 01:00:00   \n",
       "1140  D  METER_DATA  GEN_DUID  1.0  2022/10/13 01:25:03 2022-10-13 01:30:00   \n",
       "1142  D  METER_DATA  GEN_DUID  1.0  2022/10/13 01:55:03 2022-10-13 02:00:00   \n",
       "\n",
       "      AveMWH_READING REGION       SETTLEMENTDATE  TOTALDEMAND     RRP  \\\n",
       "1134       13.577516   NSW1  2022-10-13 00:00:00      7286.84  157.17   \n",
       "1136       12.832874   NSW1  2022-10-13 00:30:00      7115.44  161.42   \n",
       "1138       13.288758   NSW1  2022-10-13 01:00:00      6885.86  158.43   \n",
       "1140       14.584467   NSW1  2022-10-13 01:30:00      6586.08  148.99   \n",
       "1142       14.843988   NSW1  2022-10-13 02:00:00      6543.18  126.26   \n",
       "\n",
       "     PERIODTYPE  MWHdemand  \n",
       "1134      TRADE   0.001863  \n",
       "1136      TRADE   0.001804  \n",
       "1138      TRADE   0.001930  \n",
       "1140      TRADE   0.002214  \n",
       "1142      TRADE   0.002269  "
      ]
     },
     "execution_count": 14,
     "metadata": {},
     "output_type": "execute_result"
    }
   ],
   "source": [
    "df2.head()"
   ]
  },
  {
   "cell_type": "code",
   "execution_count": 15,
   "id": "f32672e6",
   "metadata": {},
   "outputs": [
    {
     "name": "stdout",
     "output_type": "stream",
     "text": [
      "Train shape:  (14714, 13)\n",
      "Test shape:  (3679, 13)\n"
     ]
    }
   ],
   "source": [
    "train_case, test_case = train_test_split(df2, test_size=0.2, random_state=142)\n",
    "print('Train shape: ', train_case.shape)\n",
    "print('Test shape: ', test_case.shape)"
   ]
  },
  {
   "cell_type": "code",
   "execution_count": 16,
   "id": "2d3248c2",
   "metadata": {},
   "outputs": [],
   "source": [
    "reg_2 = linear_model.LinearRegression()\n",
    "X_train2 = train_case[['MWHdemand']]\n",
    "y_train2 = train_case['RRP']\n",
    "\n",
    "X_test2 = test_case[['MWHdemand']]\n",
    "y_test2 = test_case['RRP']\n",
    "\n",
    "results2 = reg_2.fit(X_train2, y_train2)"
   ]
  },
  {
   "cell_type": "code",
   "execution_count": 17,
   "id": "4a236d59",
   "metadata": {},
   "outputs": [
    {
     "name": "stdout",
     "output_type": "stream",
     "text": [
      "reg MSE: 73054.8791038009\n",
      "reg Root MSE: 270.28666098015435\n"
     ]
    }
   ],
   "source": [
    "predicted2 = reg_2.predict(X_test2)\n",
    "mse2 = ((np.array(y_test2)-predicted2)**2).sum()/len(y_test2)\n",
    "rmse2 = np.sqrt(mse2)\n",
    "print(\"reg MSE:\", mse2)\n",
    "print(\"reg Root MSE:\", rmse2)"
   ]
  },
  {
   "cell_type": "code",
   "execution_count": 18,
   "id": "9ef60ca8",
   "metadata": {
    "scrolled": true
   },
   "outputs": [
    {
     "name": "stdout",
     "output_type": "stream",
     "text": [
      "                            OLS Regression Results                            \n",
      "==============================================================================\n",
      "Dep. Variable:                    RRP   R-squared:                       0.009\n",
      "Model:                            OLS   Adj. R-squared:                  0.009\n",
      "Method:                 Least Squares   F-statistic:                     131.6\n",
      "Date:                Tue, 12 Dec 2023   Prob (F-statistic):           2.41e-30\n",
      "Time:                        15:21:53   Log-Likelihood:            -1.0698e+05\n",
      "No. Observations:               14714   AIC:                         2.140e+05\n",
      "Df Residuals:                   14712   BIC:                         2.140e+05\n",
      "Df Model:                           1                                         \n",
      "Covariance Type:            nonrobust                                         \n",
      "==============================================================================\n",
      "                 coef    std err          t      P>|t|      [0.025      0.975]\n",
      "------------------------------------------------------------------------------\n",
      "const        178.0196      7.034     25.309      0.000     164.233     191.807\n",
      "MWHdemand  -3.924e+04   3420.159    -11.473      0.000   -4.59e+04   -3.25e+04\n",
      "==============================================================================\n",
      "Omnibus:                    41527.333   Durbin-Watson:                   2.002\n",
      "Prob(Omnibus):                  0.000   Jarque-Bera (JB):       1390622815.308\n",
      "Skew:                          37.470   Prob(JB):                         0.00\n",
      "Kurtosis:                    1507.204   Cond. No.                     1.19e+03\n",
      "==============================================================================\n",
      "\n",
      "Notes:\n",
      "[1] Standard Errors assume that the covariance matrix of the errors is correctly specified.\n",
      "[2] The condition number is large, 1.19e+03. This might indicate that there are\n",
      "strong multicollinearity or other numerical problems.\n"
     ]
    }
   ],
   "source": [
    "X_train2 = sm.add_constant(X_train2)  \n",
    "\n",
    "model2 = sm.OLS(y_train2, X_train2)\n",
    "results2 = model2.fit()\n",
    "\n",
    "print(results2.summary())"
   ]
  },
  {
   "cell_type": "markdown",
   "id": "6c5c1946",
   "metadata": {},
   "source": [
    "### 3. OLS ($\\text{AveMWH Reading} + \\frac{\\text{Average MWH Reading}}{\\text{Demand}}$) <a name=\"olsmodel3\"></a>"
   ]
  },
  {
   "cell_type": "code",
   "execution_count": 19,
   "id": "4412daea",
   "metadata": {},
   "outputs": [],
   "source": [
    "reg_3 = linear_model.LinearRegression()\n",
    "X_train3 = train_case[['AveMWH_READING','MWHdemand']]\n",
    "y_train3 = train_case['RRP']\n",
    "\n",
    "X_test3 = test_case[['AveMWH_READING','MWHdemand']]\n",
    "y_test3 = test_case['RRP']\n",
    "\n",
    "results3 = reg_3.fit(X_train3, y_train3)"
   ]
  },
  {
   "cell_type": "code",
   "execution_count": 20,
   "id": "57250966",
   "metadata": {},
   "outputs": [
    {
     "name": "stdout",
     "output_type": "stream",
     "text": [
      "reg MSE: 71488.58195311476\n",
      "reg Root MSE: 267.3734877528338\n"
     ]
    }
   ],
   "source": [
    "predicted3 = reg_3.predict(X_test3)\n",
    "mse3 = ((np.array(y_test3)-predicted3)**2).sum()/len(y_test3)\n",
    "rmse3 = np.sqrt(mse3)\n",
    "print(\"reg MSE:\", mse3)\n",
    "print(\"reg Root MSE:\", rmse3)"
   ]
  },
  {
   "cell_type": "code",
   "execution_count": 21,
   "id": "c9f3842f",
   "metadata": {},
   "outputs": [
    {
     "name": "stdout",
     "output_type": "stream",
     "text": [
      "                            OLS Regression Results                            \n",
      "==============================================================================\n",
      "Dep. Variable:                    RRP   R-squared:                       0.024\n",
      "Model:                            OLS   Adj. R-squared:                  0.024\n",
      "Method:                 Least Squares   F-statistic:                     181.3\n",
      "Date:                Tue, 12 Dec 2023   Prob (F-statistic):           1.63e-78\n",
      "Time:                        15:21:53   Log-Likelihood:            -1.0686e+05\n",
      "No. Observations:               14714   AIC:                         2.137e+05\n",
      "Df Residuals:                   14711   BIC:                         2.138e+05\n",
      "Df Model:                           2                                         \n",
      "Covariance Type:            nonrobust                                         \n",
      "==================================================================================\n",
      "                     coef    std err          t      P>|t|      [0.025      0.975]\n",
      "----------------------------------------------------------------------------------\n",
      "const            132.9101      7.590     17.511      0.000     118.033     147.787\n",
      "AveMWH_READING    17.2956      1.143     15.131      0.000      15.055      19.536\n",
      "MWHdemand       -1.39e+05   7415.088    -18.745      0.000   -1.54e+05   -1.24e+05\n",
      "==============================================================================\n",
      "Omnibus:                    41619.960   Durbin-Watson:                   2.003\n",
      "Prob(Omnibus):                  0.000   Jarque-Bera (JB):       1414474225.278\n",
      "Skew:                          37.693   Prob(JB):                         0.00\n",
      "Kurtosis:                    1520.058   Cond. No.                     3.79e+04\n",
      "==============================================================================\n",
      "\n",
      "Notes:\n",
      "[1] Standard Errors assume that the covariance matrix of the errors is correctly specified.\n",
      "[2] The condition number is large, 3.79e+04. This might indicate that there are\n",
      "strong multicollinearity or other numerical problems.\n"
     ]
    }
   ],
   "source": [
    "X_train3 = sm.add_constant(X_train3)  \n",
    "\n",
    "model3 = sm.OLS(y_train3, X_train3)\n",
    "results3 = model3.fit()\n",
    "\n",
    "print(results3.summary())"
   ]
  },
  {
   "cell_type": "code",
   "execution_count": 22,
   "id": "7e3af5d0",
   "metadata": {},
   "outputs": [
    {
     "name": "stdout",
     "output_type": "stream",
     "text": [
      "         Variable       VIF\n",
      "0           const  7.117249\n",
      "1  AveMWH_READING  4.773285\n",
      "2       MWHdemand  4.773285\n"
     ]
    }
   ],
   "source": [
    "X_train3 = sm.add_constant(X_train3)\n",
    "\n",
    "vif = pd.DataFrame()\n",
    "vif[\"Variable\"] = X_train3.columns\n",
    "vif[\"VIF\"] = [variance_inflation_factor(X_train3.values, i) for i in range(X_train3.shape[1])]\n",
    "\n",
    "# Display the VIF values\n",
    "print(vif)"
   ]
  },
  {
   "cell_type": "markdown",
   "id": "59b05cb6",
   "metadata": {},
   "source": [
    "### 4. OLS ($\\log$ (Ave_MWH_Reading)) <a name=\"olsmodel4\"></a>"
   ]
  },
  {
   "cell_type": "code",
   "execution_count": 23,
   "id": "9565ec7e",
   "metadata": {},
   "outputs": [],
   "source": [
    "df['AveMWH_READING_log'] = np.log(df['AveMWH_READING'])"
   ]
  },
  {
   "cell_type": "code",
   "execution_count": 24,
   "id": "ee9e58ee",
   "metadata": {},
   "outputs": [
    {
     "name": "stdout",
     "output_type": "stream",
     "text": [
      "Train shape:  (14714, 13)\n",
      "Test shape:  (3679, 13)\n"
     ]
    }
   ],
   "source": [
    "train_case, test_case = train_test_split(df, test_size=0.2, random_state=142)\n",
    "print('Train shape: ', train_case.shape)\n",
    "print('Test shape: ', test_case.shape)"
   ]
  },
  {
   "cell_type": "code",
   "execution_count": 25,
   "id": "c4c0cc6e",
   "metadata": {},
   "outputs": [],
   "source": [
    "reg_log = linear_model.LinearRegression()\n",
    "X_trainlog = train_case[['AveMWH_READING']]\n",
    "y_trainlog = train_case['RRP']\n",
    "\n",
    "X_testlog = test_case[['AveMWH_READING']]\n",
    "y_testlog = test_case['RRP']\n",
    "\n",
    "resultslog = reg_log.fit(X_trainlog, y_trainlog)"
   ]
  },
  {
   "cell_type": "code",
   "execution_count": 26,
   "id": "d90904d7",
   "metadata": {},
   "outputs": [
    {
     "name": "stdout",
     "output_type": "stream",
     "text": [
      "reg MSE: 74010.88717523085\n",
      "reg Root MSE: 272.04942046479505\n"
     ]
    }
   ],
   "source": [
    "predictedlog = reg_log.predict(X_testlog)\n",
    "mselog = ((np.array(y_testlog)-predictedlog)**2).sum()/len(y_testlog)\n",
    "rmselog = np.sqrt(mselog)\n",
    "print(\"reg MSE:\", mselog)\n",
    "print(\"reg Root MSE:\", rmselog)"
   ]
  },
  {
   "cell_type": "code",
   "execution_count": 27,
   "id": "ee511ed1",
   "metadata": {},
   "outputs": [
    {
     "name": "stdout",
     "output_type": "stream",
     "text": [
      "                            OLS Regression Results                            \n",
      "==============================================================================\n",
      "Dep. Variable:                    RRP   R-squared:                       0.001\n",
      "Model:                            OLS   Adj. R-squared:                  0.001\n",
      "Method:                 Least Squares   F-statistic:                     10.99\n",
      "Date:                Tue, 12 Dec 2023   Prob (F-statistic):           0.000919\n",
      "Time:                        15:21:54   Log-Likelihood:            -1.0704e+05\n",
      "No. Observations:               14714   AIC:                         2.141e+05\n",
      "Df Residuals:                   14712   BIC:                         2.141e+05\n",
      "Df Model:                           1                                         \n",
      "Covariance Type:            nonrobust                                         \n",
      "==================================================================================\n",
      "                     coef    std err          t      P>|t|      [0.025      0.975]\n",
      "----------------------------------------------------------------------------------\n",
      "const            127.9111      7.675     16.666      0.000     112.867     142.955\n",
      "AveMWH_READING    -1.7549      0.529     -3.315      0.001      -2.793      -0.717\n",
      "==============================================================================\n",
      "Omnibus:                    41378.695   Durbin-Watson:                   2.001\n",
      "Prob(Omnibus):                  0.000   Jarque-Bera (JB):       1355581506.751\n",
      "Skew:                          37.114   Prob(JB):                         0.00\n",
      "Kurtosis:                    1488.119   Cond. No.                         38.8\n",
      "==============================================================================\n",
      "\n",
      "Notes:\n",
      "[1] Standard Errors assume that the covariance matrix of the errors is correctly specified.\n"
     ]
    }
   ],
   "source": [
    "X_trainlog = sm.add_constant(X_trainlog)  \n",
    "\n",
    "modellog = sm.OLS(y_trainlog, X_trainlog)\n",
    "resultslog = modellog.fit()\n",
    "\n",
    "print(resultslog.summary())"
   ]
  },
  {
   "cell_type": "code",
   "execution_count": 28,
   "id": "70d6c749",
   "metadata": {},
   "outputs": [
    {
     "data": {
      "text/html": [
       "<div>\n",
       "<style scoped>\n",
       "    .dataframe tbody tr th:only-of-type {\n",
       "        vertical-align: middle;\n",
       "    }\n",
       "\n",
       "    .dataframe tbody tr th {\n",
       "        vertical-align: top;\n",
       "    }\n",
       "\n",
       "    .dataframe thead th {\n",
       "        text-align: right;\n",
       "    }\n",
       "</style>\n",
       "<table border=\"1\" class=\"dataframe\">\n",
       "  <thead>\n",
       "    <tr style=\"text-align: right;\">\n",
       "      <th></th>\n",
       "      <th>Variable</th>\n",
       "      <th>VIF</th>\n",
       "    </tr>\n",
       "  </thead>\n",
       "  <tbody>\n",
       "    <tr>\n",
       "      <th>0</th>\n",
       "      <td>const</td>\n",
       "      <td>7.108462</td>\n",
       "    </tr>\n",
       "    <tr>\n",
       "      <th>1</th>\n",
       "      <td>AveMWH_READING</td>\n",
       "      <td>1.000000</td>\n",
       "    </tr>\n",
       "  </tbody>\n",
       "</table>\n",
       "</div>"
      ],
      "text/plain": [
       "         Variable       VIF\n",
       "0           const  7.108462\n",
       "1  AveMWH_READING  1.000000"
      ]
     },
     "execution_count": 28,
     "metadata": {},
     "output_type": "execute_result"
    }
   ],
   "source": [
    "viflog = pd.DataFrame()\n",
    "viflog[\"Variable\"] = X_trainlog.columns\n",
    "viflog[\"VIF\"] = [variance_inflation_factor(X_trainlog.values, i) for i in range(X_trainlog.shape[1])]\n",
    "\n",
    "viflog"
   ]
  }
 ],
 "metadata": {
  "kernelspec": {
   "display_name": "Python 3 (ipykernel)",
   "language": "python",
   "name": "python3"
  },
  "language_info": {
   "codemirror_mode": {
    "name": "ipython",
    "version": 3
   },
   "file_extension": ".py",
   "mimetype": "text/x-python",
   "name": "python",
   "nbconvert_exporter": "python",
   "pygments_lexer": "ipython3",
   "version": "3.11.5"
  }
 },
 "nbformat": 4,
 "nbformat_minor": 5
}
